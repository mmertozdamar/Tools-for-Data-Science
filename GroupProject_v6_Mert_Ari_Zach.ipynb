{
 "cells": [
  {
   "cell_type": "markdown",
   "metadata": {
    "colab_type": "text",
    "id": "SH6SVciNcuVK"
   },
   "source": [
    "# Project 1: Customer Database"
   ]
  },
  {
   "cell_type": "markdown",
   "metadata": {
    "colab_type": "text",
    "id": "SH6SVciNcuVK"
   },
   "source": [
    "**This is the first of three mandatory projects to be handed in as part of the assessment for the course 02807 Computational Tools for Data Science at Technical University of Denmark, autumn 2019.**\n",
    "\n",
    "#### Practical info\n",
    "- **The project is to be done in groups of at most 3 students**\n",
    "- **Each group has to hand in _one_ Jupyter notebook (this notebook) with their solution**\n",
    "- **The hand-in of the notebook is due 2019-10-13, 23:59 on DTU Inside**\n",
    "\n",
    "#### Your solution\n",
    "- **Your solution should be in Python**\n",
    "- **For each question you may use as many cells for your solution as you like**\n",
    "- **You should document your solution and explain the choices you've made (for example by using multiple cells and use Markdown to assist the reader of the notebook)**\n",
    "- **You should not remove the problem statements, and you should not modify the structure of the notebook**\n",
    "- **Your notebook should be runnable, i.e., clicking [>>] in Jupyter should generate the result that you want to be assessed**\n",
    "- **You are not expected to use machine learning to solve any of the exercises**\n",
    "- **You will be assessed according to correctness and readability of your code, choice of solution, choice of tools and libraries, and documentation of your solution**"
   ]
  },
  {
   "cell_type": "markdown",
   "metadata": {
    "colab_type": "text",
    "id": "Xv-i4RQYcuVL"
   },
   "source": [
    "## Introduction\n",
    "Your team has been hired by the company X as data scientists. X makes gadgets for a wide range of industrial and commercial clients.\n",
    "\n",
    "As in-house data scientists, your teams first task, as per request from your new boss, is to optimize business operations. You have decided that a good first step would be to analyze the companys historical sales data to gain a better understanding of where profit is coming from. It may also reveal some low hanging fruit in terms of business opportunities.\n",
    "\n",
    "To get started, you have called the IT department to get access to the customer and sales transactions database. To your horror you've been told that such a database doens't exist, and the only record of sales transactions is kept by John from finance in an Excel spreadsheet. So you've emailed John asking for a CSV dump of the spreadsheet...\n",
    "\n",
    "In this project you need to clean the data you got from John, enrich it with further data, prepare a database for the data, and do some data analysis. The project is comprised of five parts. They are intended to be solved in the order they appear, but it is highly recommended that you read through all of them and devise an overall strategy before you start implementing anything."
   ]
  },
  {
   "cell_type": "markdown",
   "metadata": {
    "colab_type": "text",
    "id": "UUIJTnkBcuVM"
   },
   "source": [
    "## Part 1: Cleaning the data\n",
    "John has emailed you the following link to the CSV dump you requested.\n",
    "\n",
    "- [transactions.csv](https://raw.githubusercontent.com/patrickcording/02807-comp-tools/master/docker/work/data/transactions.csv)\n",
    "\n",
    "It seems as though he has been a bit sloppy when keeping the records. \n",
    "\n",
    "In this part you should:\n",
    "- Explain what the data is\n",
    "- Clean it to prepare it for inserting into a database and doing data analysis "
   ]
  },
  {
   "cell_type": "markdown",
   "metadata": {
    "colab_type": "text",
    "id": "OFZ-KMuBcuVM"
   },
   "source": [
    "---\n",
    "### Solution"
   ]
  },
  {
   "cell_type": "markdown",
   "metadata": {
    "colab_type": "text",
    "id": "bFJzyAtDcuVN"
   },
   "source": [
    "We start by loading and visualizing first and last rows, indexes and our columns headers.\n",
    "\n",
    "Our dataframe is 20568 row per 6 columns.\n",
    "\n",
    "The company has sold 100 different parts to 35 companies in 13 countries, 30 cities.\n",
    "\n",
    "The data was collected from 2016-01-02 to 2019-05-14.\n"
   ]
  },
  {
   "cell_type": "code",
   "execution_count": 61,
   "metadata": {
    "colab": {
     "base_uri": "https://localhost:8080/",
     "height": 221
    },
    "colab_type": "code",
    "id": "baJ1aYRecuVO",
    "outputId": "2fcef799-ef3d-471d-b2de-3f1b426183b2"
   },
   "outputs": [
    {
     "name": "stdout",
     "output_type": "stream",
     "text": [
      "--2019-10-13 20:10:30--  https://gist.githubusercontent.com/zacharyneveu/b139085a531a05acf0fb66e0a614f24e/raw/f6e4cf82bbc1da2e02e871e7d2319bc7d4af41ec/transactions.csv\n",
      "Resolving gist.githubusercontent.com (gist.githubusercontent.com)... 151.101.192.133, 151.101.128.133, 151.101.64.133, ...\n",
      "Connecting to gist.githubusercontent.com (gist.githubusercontent.com)|151.101.192.133|:443... connected.\n",
      "HTTP request sent, awaiting response... 200 OK\n",
      "Length: 1350495 (1.3M) [text/plain]\n",
      "Saving to: ‘transactions.csv’\n",
      "\n",
      "transactions.csv    100%[===================>]   1.29M  6.65MB/s    in 0.2s    \n",
      "\n",
      "2019-10-13 20:10:31 (6.65 MB/s) - ‘transactions.csv’ saved [1350495/1350495]\n",
      "\n"
     ]
    }
   ],
   "source": [
    "!rm transactions*\n",
    "!wget  https://gist.githubusercontent.com/zacharyneveu/b139085a531a05acf0fb66e0a614f24e/raw/f6e4cf82bbc1da2e02e871e7d2319bc7d4af41ec/transactions.csv"
   ]
  },
  {
   "cell_type": "code",
   "execution_count": 62,
   "metadata": {
    "colab": {},
    "colab_type": "code",
    "id": "uYKnlNUNcuVQ"
   },
   "outputs": [],
   "source": [
    "import sqlite3"
   ]
  },
  {
   "cell_type": "code",
   "execution_count": 63,
   "metadata": {
    "colab": {
     "base_uri": "https://localhost:8080/",
     "height": 280
    },
    "colab_type": "code",
    "id": "zSSXpvmQcuVS",
    "outputId": "dec0c362-c1b9-4176-ef96-0dda5ddacfc9"
   },
   "outputs": [
    {
     "data": {
      "text/html": [
       "<div>\n",
       "<style scoped>\n",
       "    .dataframe tbody tr th:only-of-type {\n",
       "        vertical-align: middle;\n",
       "    }\n",
       "\n",
       "    .dataframe tbody tr th {\n",
       "        vertical-align: top;\n",
       "    }\n",
       "\n",
       "    .dataframe thead th {\n",
       "        text-align: right;\n",
       "    }\n",
       "</style>\n",
       "<table border=\"1\" class=\"dataframe\">\n",
       "  <thead>\n",
       "    <tr style=\"text-align: right;\">\n",
       "      <th></th>\n",
       "      <th>part</th>\n",
       "      <th>company</th>\n",
       "      <th>country</th>\n",
       "      <th>city</th>\n",
       "      <th>price</th>\n",
       "      <th>date</th>\n",
       "    </tr>\n",
       "  </thead>\n",
       "  <tbody>\n",
       "    <tr>\n",
       "      <th>0</th>\n",
       "      <td>54868-5165</td>\n",
       "      <td>Chatterbridge</td>\n",
       "      <td>Spain</td>\n",
       "      <td>Barcelona</td>\n",
       "      <td>784.79€</td>\n",
       "      <td>2016-01-02 00:01:05</td>\n",
       "    </tr>\n",
       "    <tr>\n",
       "      <th>1</th>\n",
       "      <td>60505-2867</td>\n",
       "      <td>Lajo</td>\n",
       "      <td>Greece</td>\n",
       "      <td>Thessaloniki</td>\n",
       "      <td>187.99€</td>\n",
       "      <td>2016-01-02 00:05:26</td>\n",
       "    </tr>\n",
       "    <tr>\n",
       "      <th>2</th>\n",
       "      <td>24385-268</td>\n",
       "      <td>Flipstorm</td>\n",
       "      <td>Greece</td>\n",
       "      <td>Athens</td>\n",
       "      <td>221.73€</td>\n",
       "      <td>2016-01-02 00:18:30</td>\n",
       "    </tr>\n",
       "    <tr>\n",
       "      <th>3</th>\n",
       "      <td>76117-001</td>\n",
       "      <td>Twitterbeat</td>\n",
       "      <td>France</td>\n",
       "      <td>Annecy</td>\n",
       "      <td>1075.82€</td>\n",
       "      <td>2016-01-02 02:32:30</td>\n",
       "    </tr>\n",
       "    <tr>\n",
       "      <th>4</th>\n",
       "      <td>44946-1046</td>\n",
       "      <td>Chatterbridge</td>\n",
       "      <td>Spain</td>\n",
       "      <td>Barcelona</td>\n",
       "      <td>412.55€</td>\n",
       "      <td>2016-01-02 04:51:55</td>\n",
       "    </tr>\n",
       "  </tbody>\n",
       "</table>\n",
       "</div>"
      ],
      "text/plain": [
       "         part        company country          city     price  \\\n",
       "0  54868-5165  Chatterbridge   Spain     Barcelona   784.79€   \n",
       "1  60505-2867           Lajo  Greece  Thessaloniki   187.99€   \n",
       "2   24385-268      Flipstorm  Greece        Athens   221.73€   \n",
       "3   76117-001    Twitterbeat  France        Annecy  1075.82€   \n",
       "4  44946-1046  Chatterbridge   Spain     Barcelona   412.55€   \n",
       "\n",
       "                  date  \n",
       "0  2016-01-02 00:01:05  \n",
       "1  2016-01-02 00:05:26  \n",
       "2  2016-01-02 00:18:30  \n",
       "3  2016-01-02 02:32:30  \n",
       "4  2016-01-02 04:51:55  "
      ]
     },
     "execution_count": 63,
     "metadata": {},
     "output_type": "execute_result"
    }
   ],
   "source": [
    "# Importing the necessary libraries.\n",
    "import pandas as pd\n",
    "import numpy as np\n",
    "import matplotlib.pyplot as plt\n",
    "plt.style.use('seaborn-notebook')\n",
    "import random\n",
    "df = pd.read_csv('transactions.csv')\n",
    "df.head(5)\n"
   ]
  },
  {
   "cell_type": "code",
   "execution_count": 64,
   "metadata": {
    "colab": {
     "base_uri": "https://localhost:8080/",
     "height": 33
    },
    "colab_type": "code",
    "id": "i4Fae2ljcuVV",
    "outputId": "ee0abd1d-424b-485a-f7ba-1525c9ebd522"
   },
   "outputs": [
    {
     "data": {
      "text/plain": [
       "RangeIndex(start=0, stop=20568, step=1)"
      ]
     },
     "execution_count": 64,
     "metadata": {},
     "output_type": "execute_result"
    }
   ],
   "source": [
    "df.index"
   ]
  },
  {
   "cell_type": "code",
   "execution_count": 65,
   "metadata": {
    "colab": {
     "base_uri": "https://localhost:8080/",
     "height": 53
    },
    "colab_type": "code",
    "id": "cYqmGN7LcuVY",
    "outputId": "7291220f-c8a3-4cee-e719-a1850a5f1f08"
   },
   "outputs": [
    {
     "data": {
      "text/plain": [
       "Index(['part', 'company', 'country', 'city', 'price', 'date'], dtype='object')"
      ]
     },
     "execution_count": 65,
     "metadata": {},
     "output_type": "execute_result"
    }
   ],
   "source": [
    "df.columns"
   ]
  },
  {
   "cell_type": "code",
   "execution_count": 66,
   "metadata": {
    "colab": {
     "base_uri": "https://localhost:8080/",
     "height": 50
    },
    "colab_type": "code",
    "id": "XOuhW1mfcuVa",
    "outputId": "9c579858-e974-445a-bd3d-82b854539d91"
   },
   "outputs": [
    {
     "name": "stdout",
     "output_type": "stream",
     "text": [
      "10/04/2017\n",
      "2019-05-14 22:48:39\n"
     ]
    }
   ],
   "source": [
    "print (min(df['date']))\n",
    "print (max(df['date']))"
   ]
  },
  {
   "cell_type": "code",
   "execution_count": 67,
   "metadata": {
    "colab": {
     "base_uri": "https://localhost:8080/",
     "height": 166
    },
    "colab_type": "code",
    "id": "zlOEL6dzcuVc",
    "outputId": "84355c6b-5a20-43d0-8733-d6499fccf034"
   },
   "outputs": [
    {
     "data": {
      "text/html": [
       "<div>\n",
       "<style scoped>\n",
       "    .dataframe tbody tr th:only-of-type {\n",
       "        vertical-align: middle;\n",
       "    }\n",
       "\n",
       "    .dataframe tbody tr th {\n",
       "        vertical-align: top;\n",
       "    }\n",
       "\n",
       "    .dataframe thead th {\n",
       "        text-align: right;\n",
       "    }\n",
       "</style>\n",
       "<table border=\"1\" class=\"dataframe\">\n",
       "  <thead>\n",
       "    <tr style=\"text-align: right;\">\n",
       "      <th></th>\n",
       "      <th>part</th>\n",
       "      <th>company</th>\n",
       "      <th>country</th>\n",
       "      <th>city</th>\n",
       "      <th>price</th>\n",
       "      <th>date</th>\n",
       "    </tr>\n",
       "  </thead>\n",
       "  <tbody>\n",
       "    <tr>\n",
       "      <th>count</th>\n",
       "      <td>20558</td>\n",
       "      <td>20568</td>\n",
       "      <td>18397</td>\n",
       "      <td>20535</td>\n",
       "      <td>20567</td>\n",
       "      <td>20568</td>\n",
       "    </tr>\n",
       "    <tr>\n",
       "      <th>unique</th>\n",
       "      <td>101</td>\n",
       "      <td>35</td>\n",
       "      <td>13</td>\n",
       "      <td>30</td>\n",
       "      <td>19214</td>\n",
       "      <td>20552</td>\n",
       "    </tr>\n",
       "    <tr>\n",
       "      <th>top</th>\n",
       "      <td>17156-617</td>\n",
       "      <td>Thoughtmix</td>\n",
       "      <td>Portugal</td>\n",
       "      <td>Amadora\\t</td>\n",
       "      <td>-</td>\n",
       "      <td>10/04/2017</td>\n",
       "    </tr>\n",
       "    <tr>\n",
       "      <th>freq</th>\n",
       "      <td>300</td>\n",
       "      <td>2795</td>\n",
       "      <td>7383</td>\n",
       "      <td>2787</td>\n",
       "      <td>5</td>\n",
       "      <td>7</td>\n",
       "    </tr>\n",
       "  </tbody>\n",
       "</table>\n",
       "</div>"
      ],
      "text/plain": [
       "             part     company   country       city  price        date\n",
       "count       20558       20568     18397      20535  20567       20568\n",
       "unique        101          35        13         30  19214       20552\n",
       "top     17156-617  Thoughtmix  Portugal  Amadora\\t      -  10/04/2017\n",
       "freq          300        2795      7383       2787      5           7"
      ]
     },
     "execution_count": 67,
     "metadata": {},
     "output_type": "execute_result"
    }
   ],
   "source": [
    "df.describe()"
   ]
  },
  {
   "cell_type": "markdown",
   "metadata": {
    "colab_type": "text",
    "id": "ISXvxpM2cuVe"
   },
   "source": [
    "A bit more insight, lets group our data by country and company."
   ]
  },
  {
   "cell_type": "code",
   "execution_count": 68,
   "metadata": {
    "colab": {
     "base_uri": "https://localhost:8080/",
     "height": 1000
    },
    "colab_type": "code",
    "id": "83nP1wXjcuVf",
    "outputId": "cea73c63-3101-4490-b788-dc5a0313b933"
   },
   "outputs": [
    {
     "data": {
      "text/html": [
       "<div>\n",
       "<style scoped>\n",
       "    .dataframe tbody tr th:only-of-type {\n",
       "        vertical-align: middle;\n",
       "    }\n",
       "\n",
       "    .dataframe tbody tr th {\n",
       "        vertical-align: top;\n",
       "    }\n",
       "\n",
       "    .dataframe thead th {\n",
       "        text-align: right;\n",
       "    }\n",
       "</style>\n",
       "<table border=\"1\" class=\"dataframe\">\n",
       "  <thead>\n",
       "    <tr style=\"text-align: right;\">\n",
       "      <th></th>\n",
       "      <th></th>\n",
       "      <th>part</th>\n",
       "      <th>city</th>\n",
       "      <th>price</th>\n",
       "      <th>date</th>\n",
       "    </tr>\n",
       "    <tr>\n",
       "      <th>country</th>\n",
       "      <th>company</th>\n",
       "      <th></th>\n",
       "      <th></th>\n",
       "      <th></th>\n",
       "      <th></th>\n",
       "    </tr>\n",
       "  </thead>\n",
       "  <tbody>\n",
       "    <tr>\n",
       "      <th rowspan=\"8\" valign=\"top\">France</th>\n",
       "      <th>Avaveo</th>\n",
       "      <td>70253-307</td>\n",
       "      <td>Nice</td>\n",
       "      <td>1029.92€</td>\n",
       "      <td>2016-01-03 11:53:31</td>\n",
       "    </tr>\n",
       "    <tr>\n",
       "      <th>Eimbee</th>\n",
       "      <td>49349-106</td>\n",
       "      <td>Amiens</td>\n",
       "      <td>789.66€</td>\n",
       "      <td>2016-01-06 21:02:40</td>\n",
       "    </tr>\n",
       "    <tr>\n",
       "      <th>Flipstorm</th>\n",
       "      <td>44946-1046</td>\n",
       "      <td>Nanterre</td>\n",
       "      <td>406.4€</td>\n",
       "      <td>2016-01-02 16:34:14</td>\n",
       "    </tr>\n",
       "    <tr>\n",
       "      <th>Gabtune</th>\n",
       "      <td>49967-724</td>\n",
       "      <td>Lyon</td>\n",
       "      <td>543.67€</td>\n",
       "      <td>2016-01-30 16:06:44</td>\n",
       "    </tr>\n",
       "    <tr>\n",
       "      <th>Gevee</th>\n",
       "      <td>0699-7041</td>\n",
       "      <td>Champagnole</td>\n",
       "      <td>998.89€</td>\n",
       "      <td>2016-02-22 11:20:00</td>\n",
       "    </tr>\n",
       "    <tr>\n",
       "      <th>Rhycero</th>\n",
       "      <td>55700-014</td>\n",
       "      <td>Arcueil</td>\n",
       "      <td>635.89€</td>\n",
       "      <td>2016-01-12 22:29:15</td>\n",
       "    </tr>\n",
       "    <tr>\n",
       "      <th>Twitterbeat</th>\n",
       "      <td>76117-001</td>\n",
       "      <td>Annecy</td>\n",
       "      <td>1075.82€</td>\n",
       "      <td>2016-01-02 02:32:30</td>\n",
       "    </tr>\n",
       "    <tr>\n",
       "      <th>Voomm</th>\n",
       "      <td>52125-444</td>\n",
       "      <td>Paris</td>\n",
       "      <td>266.62€</td>\n",
       "      <td>2016-01-02 07:40:37</td>\n",
       "    </tr>\n",
       "    <tr>\n",
       "      <th>Germany</th>\n",
       "      <th>Buzzbean</th>\n",
       "      <td>43419-018</td>\n",
       "      <td>Düsseldorf</td>\n",
       "      <td>103.45€</td>\n",
       "      <td>2016-01-02 08:57:57</td>\n",
       "    </tr>\n",
       "    <tr>\n",
       "      <th rowspan=\"5\" valign=\"top\">Greece</th>\n",
       "      <th>Flipstorm</th>\n",
       "      <td>24385-268</td>\n",
       "      <td>Athens</td>\n",
       "      <td>221.73€</td>\n",
       "      <td>2016-01-02 00:18:30</td>\n",
       "    </tr>\n",
       "    <tr>\n",
       "      <th>Laj0</th>\n",
       "      <td>54123-957</td>\n",
       "      <td>Thessaloniki</td>\n",
       "      <td>189.29€</td>\n",
       "      <td>2017-10-24 06:22:42</td>\n",
       "    </tr>\n",
       "    <tr>\n",
       "      <th>Lajo</th>\n",
       "      <td>60505-2867</td>\n",
       "      <td>Thessaloniki</td>\n",
       "      <td>187.99€</td>\n",
       "      <td>2016-01-02 00:05:26</td>\n",
       "    </tr>\n",
       "    <tr>\n",
       "      <th>Riffpath</th>\n",
       "      <td>50563-113</td>\n",
       "      <td>Heraklion</td>\n",
       "      <td>489.98€</td>\n",
       "      <td>2016-01-06 04:05:10</td>\n",
       "    </tr>\n",
       "    <tr>\n",
       "      <th>Yozio</th>\n",
       "      <td>36800-952</td>\n",
       "      <td>Patras</td>\n",
       "      <td>386.76€</td>\n",
       "      <td>2016-01-07 01:49:15</td>\n",
       "    </tr>\n",
       "    <tr>\n",
       "      <th rowspan=\"2\" valign=\"top\">Japan</th>\n",
       "      <th>Bubblemix</th>\n",
       "      <td>16714-295</td>\n",
       "      <td>Asaka</td>\n",
       "      <td>¥47774.49</td>\n",
       "      <td>2016-02-12 16:30:46</td>\n",
       "    </tr>\n",
       "    <tr>\n",
       "      <th>Kanoodle</th>\n",
       "      <td>24286-1562</td>\n",
       "      <td>Niihama</td>\n",
       "      <td>¥32441.68</td>\n",
       "      <td>2016-01-04 14:48:42</td>\n",
       "    </tr>\n",
       "    <tr>\n",
       "      <th rowspan=\"2\" valign=\"top\">Netherlands</th>\n",
       "      <th>Innojam</th>\n",
       "      <td>0268-1604</td>\n",
       "      <td>Amsterdam</td>\n",
       "      <td>157.22€</td>\n",
       "      <td>2016-01-03 13:48:28</td>\n",
       "    </tr>\n",
       "    <tr>\n",
       "      <th>Teklist</th>\n",
       "      <td>76454-100</td>\n",
       "      <td>Arnhem</td>\n",
       "      <td>166.29€</td>\n",
       "      <td>2016-01-03 09:35:27</td>\n",
       "    </tr>\n",
       "    <tr>\n",
       "      <th rowspan=\"3\" valign=\"top\">Portuga</th>\n",
       "      <th>Brainsphere</th>\n",
       "      <td>36987-1697</td>\n",
       "      <td>Braga</td>\n",
       "      <td>859.1€</td>\n",
       "      <td>2018-08-04 09:30:02</td>\n",
       "    </tr>\n",
       "    <tr>\n",
       "      <th>Ntags</th>\n",
       "      <td>62742-4030</td>\n",
       "      <td>Lisbon</td>\n",
       "      <td>519.35€</td>\n",
       "      <td>2018-08-04 07:20:51</td>\n",
       "    </tr>\n",
       "    <tr>\n",
       "      <th>Thoughtmix</th>\n",
       "      <td>49738-105</td>\n",
       "      <td>Amadora\\t</td>\n",
       "      <td>406.09€</td>\n",
       "      <td>2018-08-04 05:57:01</td>\n",
       "    </tr>\n",
       "    <tr>\n",
       "      <th rowspan=\"9\" valign=\"top\">Portugal</th>\n",
       "      <th>Brainsphere</th>\n",
       "      <td>36987-1697</td>\n",
       "      <td>Braga</td>\n",
       "      <td>830.75€</td>\n",
       "      <td>2016-01-02 13:16:45</td>\n",
       "    </tr>\n",
       "    <tr>\n",
       "      <th>Gabcube</th>\n",
       "      <td>50563-113</td>\n",
       "      <td>Almada</td>\n",
       "      <td>671.22€</td>\n",
       "      <td>2016-01-04 22:55:51</td>\n",
       "    </tr>\n",
       "    <tr>\n",
       "      <th>Ntags</th>\n",
       "      <td>62756-707</td>\n",
       "      <td>Lisbon</td>\n",
       "      <td>322.45€</td>\n",
       "      <td>2016-01-03 13:12:09</td>\n",
       "    </tr>\n",
       "    <tr>\n",
       "      <th>Ntagz</th>\n",
       "      <td>68084-172</td>\n",
       "      <td>Lisbon</td>\n",
       "      <td>670.96€</td>\n",
       "      <td>2017-10-25 14:12:44</td>\n",
       "    </tr>\n",
       "    <tr>\n",
       "      <th>Realpoint</th>\n",
       "      <td>24385-268</td>\n",
       "      <td>Lisbon</td>\n",
       "      <td>200.28€</td>\n",
       "      <td>2016-01-20 20:38:36</td>\n",
       "    </tr>\n",
       "    <tr>\n",
       "      <th>Roodel</th>\n",
       "      <td>10267-2529</td>\n",
       "      <td>Aranhas</td>\n",
       "      <td>460.71€</td>\n",
       "      <td>2016-01-05 09:32:18</td>\n",
       "    </tr>\n",
       "    <tr>\n",
       "      <th>Shufflebeat</th>\n",
       "      <td>52343-025</td>\n",
       "      <td>Porto</td>\n",
       "      <td>843.78€</td>\n",
       "      <td>2016-01-03 22:12:57</td>\n",
       "    </tr>\n",
       "    <tr>\n",
       "      <th>Thoughtmix</th>\n",
       "      <td>0268-6107</td>\n",
       "      <td>Amadora\\t</td>\n",
       "      <td>477.71€</td>\n",
       "      <td>2016-01-02 18:52:45</td>\n",
       "    </tr>\n",
       "    <tr>\n",
       "      <th>Thoughtmixz</th>\n",
       "      <td>49738-105</td>\n",
       "      <td>Amadora\\t</td>\n",
       "      <td>506.82€</td>\n",
       "      <td>2018-11-19 16:04:40</td>\n",
       "    </tr>\n",
       "    <tr>\n",
       "      <th>Spain</th>\n",
       "      <th>Chatterbridge</th>\n",
       "      <td>54868-5165</td>\n",
       "      <td>Barcelona</td>\n",
       "      <td>784.79€</td>\n",
       "      <td>2016-01-02 00:01:05</td>\n",
       "    </tr>\n",
       "    <tr>\n",
       "      <th>Switzerland</th>\n",
       "      <th>Tagtune</th>\n",
       "      <td>67046-030</td>\n",
       "      <td>Zürich</td>\n",
       "      <td>158.2€</td>\n",
       "      <td>2016-03-31 13:27:47</td>\n",
       "    </tr>\n",
       "    <tr>\n",
       "      <th>Tyskland</th>\n",
       "      <th>Buzzbean</th>\n",
       "      <td>55856-0003</td>\n",
       "      <td>Düsseldorf</td>\n",
       "      <td>641.6€</td>\n",
       "      <td>2016-06-10 12:02:48</td>\n",
       "    </tr>\n",
       "    <tr>\n",
       "      <th>US</th>\n",
       "      <th>Zoonder</th>\n",
       "      <td>42254-213</td>\n",
       "      <td>Boston</td>\n",
       "      <td>$219.25</td>\n",
       "      <td>2016-05-25 15:34:28</td>\n",
       "    </tr>\n",
       "    <tr>\n",
       "      <th rowspan=\"2\" valign=\"top\">United Kingdom</th>\n",
       "      <th>Zooxo</th>\n",
       "      <td>54092-515</td>\n",
       "      <td>London</td>\n",
       "      <td>£704.94</td>\n",
       "      <td>2016-01-02 09:09:01</td>\n",
       "    </tr>\n",
       "    <tr>\n",
       "      <th>Zooxo.</th>\n",
       "      <td>35356-325</td>\n",
       "      <td>London</td>\n",
       "      <td>£32.84</td>\n",
       "      <td>2017-10-12 20:13:59</td>\n",
       "    </tr>\n",
       "    <tr>\n",
       "      <th rowspan=\"5\" valign=\"top\">United States</th>\n",
       "      <th>-</th>\n",
       "      <td>17156-617</td>\n",
       "      <td>Boston</td>\n",
       "      <td>$1168.82</td>\n",
       "      <td>2017-12-16 17:55:55</td>\n",
       "    </tr>\n",
       "    <tr>\n",
       "      <th>a</th>\n",
       "      <td>37205-992</td>\n",
       "      <td>New York</td>\n",
       "      <td>$395.3</td>\n",
       "      <td>2017-12-16 18:59:53</td>\n",
       "    </tr>\n",
       "    <tr>\n",
       "      <th>Wordify</th>\n",
       "      <td>62670-4404</td>\n",
       "      <td>New York</td>\n",
       "      <td>$444.15</td>\n",
       "      <td>2016-01-02 21:10:19</td>\n",
       "    </tr>\n",
       "    <tr>\n",
       "      <th>Zoonder</th>\n",
       "      <td>54473-578</td>\n",
       "      <td>Boston</td>\n",
       "      <td>$199.56</td>\n",
       "      <td>2016-01-03 22:21:29</td>\n",
       "    </tr>\n",
       "    <tr>\n",
       "      <th>aa</th>\n",
       "      <td>51346-145</td>\n",
       "      <td>New York</td>\n",
       "      <td>$1059.38</td>\n",
       "      <td>2017-12-16 20:02:15</td>\n",
       "    </tr>\n",
       "  </tbody>\n",
       "</table>\n",
       "</div>"
      ],
      "text/plain": [
       "                                    part          city      price  \\\n",
       "country        company                                              \n",
       "France         Avaveo          70253-307          Nice   1029.92€   \n",
       "               Eimbee          49349-106        Amiens    789.66€   \n",
       "               Flipstorm      44946-1046      Nanterre     406.4€   \n",
       "               Gabtune         49967-724          Lyon    543.67€   \n",
       "               Gevee           0699-7041   Champagnole    998.89€   \n",
       "               Rhycero         55700-014       Arcueil    635.89€   \n",
       "               Twitterbeat     76117-001        Annecy   1075.82€   \n",
       "               Voomm           52125-444         Paris    266.62€   \n",
       "Germany        Buzzbean        43419-018    Düsseldorf    103.45€   \n",
       "Greece         Flipstorm       24385-268        Athens    221.73€   \n",
       "               Laj0            54123-957  Thessaloniki    189.29€   \n",
       "               Lajo           60505-2867  Thessaloniki    187.99€   \n",
       "               Riffpath        50563-113     Heraklion    489.98€   \n",
       "               Yozio           36800-952        Patras    386.76€   \n",
       "Japan          Bubblemix       16714-295         Asaka  ¥47774.49   \n",
       "               Kanoodle       24286-1562       Niihama  ¥32441.68   \n",
       "Netherlands    Innojam         0268-1604     Amsterdam    157.22€   \n",
       "               Teklist         76454-100        Arnhem    166.29€   \n",
       "Portuga        Brainsphere    36987-1697         Braga     859.1€   \n",
       "               Ntags          62742-4030        Lisbon    519.35€   \n",
       "               Thoughtmix      49738-105     Amadora\\t    406.09€   \n",
       "Portugal       Brainsphere    36987-1697         Braga    830.75€   \n",
       "               Gabcube         50563-113        Almada    671.22€   \n",
       "               Ntags           62756-707        Lisbon    322.45€   \n",
       "               Ntagz           68084-172        Lisbon    670.96€   \n",
       "               Realpoint       24385-268        Lisbon    200.28€   \n",
       "               Roodel         10267-2529       Aranhas    460.71€   \n",
       "               Shufflebeat     52343-025         Porto    843.78€   \n",
       "               Thoughtmix      0268-6107     Amadora\\t    477.71€   \n",
       "               Thoughtmixz     49738-105     Amadora\\t    506.82€   \n",
       "Spain          Chatterbridge  54868-5165     Barcelona    784.79€   \n",
       "Switzerland    Tagtune         67046-030        Zürich     158.2€   \n",
       "Tyskland       Buzzbean       55856-0003    Düsseldorf     641.6€   \n",
       "US             Zoonder         42254-213        Boston    $219.25   \n",
       "United Kingdom Zooxo           54092-515        London    £704.94   \n",
       "               Zooxo.          35356-325        London     £32.84   \n",
       "United States   -              17156-617        Boston   $1168.82   \n",
       "                a              37205-992      New York     $395.3   \n",
       "               Wordify        62670-4404      New York    $444.15   \n",
       "               Zoonder         54473-578        Boston    $199.56   \n",
       "               aa              51346-145      New York   $1059.38   \n",
       "\n",
       "                                             date  \n",
       "country        company                             \n",
       "France         Avaveo         2016-01-03 11:53:31  \n",
       "               Eimbee         2016-01-06 21:02:40  \n",
       "               Flipstorm      2016-01-02 16:34:14  \n",
       "               Gabtune        2016-01-30 16:06:44  \n",
       "               Gevee          2016-02-22 11:20:00  \n",
       "               Rhycero        2016-01-12 22:29:15  \n",
       "               Twitterbeat    2016-01-02 02:32:30  \n",
       "               Voomm          2016-01-02 07:40:37  \n",
       "Germany        Buzzbean       2016-01-02 08:57:57  \n",
       "Greece         Flipstorm      2016-01-02 00:18:30  \n",
       "               Laj0           2017-10-24 06:22:42  \n",
       "               Lajo           2016-01-02 00:05:26  \n",
       "               Riffpath       2016-01-06 04:05:10  \n",
       "               Yozio          2016-01-07 01:49:15  \n",
       "Japan          Bubblemix      2016-02-12 16:30:46  \n",
       "               Kanoodle       2016-01-04 14:48:42  \n",
       "Netherlands    Innojam        2016-01-03 13:48:28  \n",
       "               Teklist        2016-01-03 09:35:27  \n",
       "Portuga        Brainsphere    2018-08-04 09:30:02  \n",
       "               Ntags          2018-08-04 07:20:51  \n",
       "               Thoughtmix     2018-08-04 05:57:01  \n",
       "Portugal       Brainsphere    2016-01-02 13:16:45  \n",
       "               Gabcube        2016-01-04 22:55:51  \n",
       "               Ntags          2016-01-03 13:12:09  \n",
       "               Ntagz          2017-10-25 14:12:44  \n",
       "               Realpoint      2016-01-20 20:38:36  \n",
       "               Roodel         2016-01-05 09:32:18  \n",
       "               Shufflebeat    2016-01-03 22:12:57  \n",
       "               Thoughtmix     2016-01-02 18:52:45  \n",
       "               Thoughtmixz    2018-11-19 16:04:40  \n",
       "Spain          Chatterbridge  2016-01-02 00:01:05  \n",
       "Switzerland    Tagtune        2016-03-31 13:27:47  \n",
       "Tyskland       Buzzbean       2016-06-10 12:02:48  \n",
       "US             Zoonder        2016-05-25 15:34:28  \n",
       "United Kingdom Zooxo          2016-01-02 09:09:01  \n",
       "               Zooxo.         2017-10-12 20:13:59  \n",
       "United States   -             2017-12-16 17:55:55  \n",
       "                a             2017-12-16 18:59:53  \n",
       "               Wordify        2016-01-02 21:10:19  \n",
       "               Zoonder        2016-01-03 22:21:29  \n",
       "               aa             2017-12-16 20:02:15  "
      ]
     },
     "execution_count": 68,
     "metadata": {},
     "output_type": "execute_result"
    }
   ],
   "source": [
    "df_country_city = df.groupby(['country', 'company']) \n",
    "df_country_city.first()"
   ]
  },
  {
   "cell_type": "markdown",
   "metadata": {
    "colab_type": "text",
    "id": "y_VGrzZccuVh"
   },
   "source": [
    "We definitely want to check on the data type of the columns.\n",
    "\n",
    "We can already see:\n",
    "- Some date are not fitting the calendar month.\n",
    "- There are different currencies: £,$,£,¥\n",
    "- Some entries are miss-spelled.\n",
    "    - countries: \"Portugal\" and \"Portuga\" -> should be merged\n",
    "    - companies: \"Zooxo\" and \"Zooxo.\" -> should be merged\n",
    "    ect\n",
    "- Some entries are missing or Nan."
   ]
  },
  {
   "cell_type": "markdown",
   "metadata": {
    "colab_type": "text",
    "id": "qiAnFjYvcuVi"
   },
   "source": [
    "### 1 - Fix the dates\n",
    "Lets have a look for example at entry 3539. Something is weird:eg  there is no 32nd of June. "
   ]
  },
  {
   "cell_type": "code",
   "execution_count": 69,
   "metadata": {
    "colab": {
     "base_uri": "https://localhost:8080/",
     "height": 134
    },
    "colab_type": "code",
    "id": "wuoKd4K9cuVi",
    "outputId": "283b9006-7270-43fb-cd1e-7443538a679b"
   },
   "outputs": [
    {
     "data": {
      "text/plain": [
       "part                 17156-617\n",
       "company             Thoughtmix\n",
       "country               Portugal\n",
       "city                 Amadora\\t\n",
       "price                  791.86€\n",
       "date       2016-06-32 07:22:28\n",
       "Name: 3539, dtype: object"
      ]
     },
     "execution_count": 69,
     "metadata": {},
     "output_type": "execute_result"
    }
   ],
   "source": [
    "df.iloc[3539]"
   ]
  },
  {
   "cell_type": "markdown",
   "metadata": {
    "colab_type": "text",
    "id": "i7ofcW64cuVm"
   },
   "source": [
    "We can decide to ignore date errors or return an empty value in case if an error. \n",
    "What we want to do is to convert those dates as NaT."
   ]
  },
  {
   "cell_type": "code",
   "execution_count": 70,
   "metadata": {
    "colab": {
     "base_uri": "https://localhost:8080/",
     "height": 117
    },
    "colab_type": "code",
    "id": "pPmpzfu7cuVm",
    "outputId": "1815702e-5896-4696-efc7-816387890cb3"
   },
   "outputs": [
    {
     "data": {
      "text/plain": [
       "0   2016-01-02 00:01:05\n",
       "1   2016-01-02 00:05:26\n",
       "2   2016-01-02 00:18:30\n",
       "3   2016-01-02 02:32:30\n",
       "4   2016-01-02 04:51:55\n",
       "Name: date, dtype: datetime64[ns]"
      ]
     },
     "execution_count": 70,
     "metadata": {},
     "output_type": "execute_result"
    }
   ],
   "source": [
    "df['date']= pd.to_datetime(df['date'],format='%Y-%m-%d', errors='coerce')\n",
    "df['date'].head(5)"
   ]
  },
  {
   "cell_type": "markdown",
   "metadata": {
    "colab_type": "text",
    "id": "W75zAOohcuVo"
   },
   "source": [
    "We can decide to drop the info about time and keep the date only.\n",
    "We can do that with two different formats:"
   ]
  },
  {
   "cell_type": "code",
   "execution_count": 71,
   "metadata": {
    "colab": {
     "base_uri": "https://localhost:8080/",
     "height": 117
    },
    "colab_type": "code",
    "id": "gWPYrrIzcuVp",
    "outputId": "35243b49-b04a-473a-ca2a-d64048ca6ff5"
   },
   "outputs": [
    {
     "data": {
      "text/plain": [
       "0   2016-01-02\n",
       "1   2016-01-02\n",
       "2   2016-01-02\n",
       "3   2016-01-02\n",
       "4   2016-01-02\n",
       "Name: norm_date, dtype: datetime64[ns]"
      ]
     },
     "execution_count": 71,
     "metadata": {},
     "output_type": "execute_result"
    }
   ],
   "source": [
    "df['norm_date'] = df['date'].dt.normalize()\n",
    "df['norm_date'].head(5)"
   ]
  },
  {
   "cell_type": "code",
   "execution_count": 72,
   "metadata": {
    "colab": {
     "base_uri": "https://localhost:8080/",
     "height": 117
    },
    "colab_type": "code",
    "id": "0D_8XbYdcuVr",
    "outputId": "06da067e-fa00-428d-8fbd-21d9c6a037c5"
   },
   "outputs": [
    {
     "data": {
      "text/plain": [
       "0    2016-01-02\n",
       "1    2016-01-02\n",
       "2    2016-01-02\n",
       "3    2016-01-02\n",
       "4    2016-01-02\n",
       "Name: just_date, dtype: object"
      ]
     },
     "execution_count": 72,
     "metadata": {},
     "output_type": "execute_result"
    }
   ],
   "source": [
    "df['just_date'] = df['date'].dt.date\n",
    "df['just_date'].head(5)\n"
   ]
  },
  {
   "cell_type": "code",
   "execution_count": 73,
   "metadata": {
    "colab": {},
    "colab_type": "code",
    "id": "ZeeKyFvEcuVs"
   },
   "outputs": [],
   "source": [
    "df['year'] = df['date'].dt.year"
   ]
  },
  {
   "cell_type": "code",
   "execution_count": 74,
   "metadata": {
    "colab": {
     "base_uri": "https://localhost:8080/",
     "height": 405
    },
    "colab_type": "code",
    "id": "69OPOZ3OcuVu",
    "outputId": "75af77a4-6139-4567-f663-85271f5fb186"
   },
   "outputs": [
    {
     "name": "stdout",
     "output_type": "stream",
     "text": [
      "Number of wrong dates:  18\n",
      "             part        company        country        city     price date  \\\n",
      "3539    17156-617     Thoughtmix       Portugal   Amadora\\t   791.86€  NaT   \n",
      "3540   54868-5165    Shufflebeat       Portugal       Porto   525.24€  NaT   \n",
      "9295    52343-025     Thoughtmix       Portugal   Amadora\\t   662.06€  NaT   \n",
      "9296    49738-105  Chatterbridge          Spain   Barcelona   442.31€  NaT   \n",
      "9328    0615-7679     Thoughtmix       Portugal   Amadora\\t   314.43€  NaT   \n",
      "9329    35356-325        Wordify  United States    New York   $330.75  NaT   \n",
      "9330    0268-1401     Thoughtmix       Portugal   Amadora\\t  1000.77€  NaT   \n",
      "9331    51138-049    Twitterbeat         France      Annecy  1032.04€  NaT   \n",
      "9332    68233-011    Brainsphere       Portugal       Braga   588.07€  NaT   \n",
      "9333    54473-578    Shufflebeat       Portugal       Porto   192.34€  NaT   \n",
      "9334   54868-0823        Rhycero         France     Arcueil   108.62€  NaT   \n",
      "19162  63629-2733       Buzzbean        Germany  Düsseldorf   187.26€  NaT   \n",
      "19163   0268-6107     Thoughtmix       Portugal   Amadora\\t   466.78€  NaT   \n",
      "19306   49349-471    Shufflebeat       Portugal       Porto   958.36€  NaT   \n",
      "19307   68180-121    Shufflebeat       Portugal       Porto  1155.43€  NaT   \n",
      "19774   49349-314    Twitterbeat         France      Annecy   480.73€  NaT   \n",
      "20197   55700-014       Buzzbean        Germany  Düsseldorf   712.69€  NaT   \n",
      "20198   13537-468          Ntags       Portugal      Lisbon   839.79€  NaT   \n",
      "\n",
      "      norm_date just_date  year  \n",
      "3539        NaT       NaT   NaN  \n",
      "3540        NaT       NaT   NaN  \n",
      "9295        NaT       NaT   NaN  \n",
      "9296        NaT       NaT   NaN  \n",
      "9328        NaT       NaT   NaN  \n",
      "9329        NaT       NaT   NaN  \n",
      "9330        NaT       NaT   NaN  \n",
      "9331        NaT       NaT   NaN  \n",
      "9332        NaT       NaT   NaN  \n",
      "9333        NaT       NaT   NaN  \n",
      "9334        NaT       NaT   NaN  \n",
      "19162       NaT       NaT   NaN  \n",
      "19163       NaT       NaT   NaN  \n",
      "19306       NaT       NaT   NaN  \n",
      "19307       NaT       NaT   NaN  \n",
      "19774       NaT       NaT   NaN  \n",
      "20197       NaT       NaT   NaN  \n",
      "20198       NaT       NaT   NaN  \n"
     ]
    }
   ],
   "source": [
    "print ('Number of wrong dates: ',len(df[df['date'].isnull()]))\n",
    "print (df[df['date'].isnull()])"
   ]
  },
  {
   "cell_type": "code",
   "execution_count": 75,
   "metadata": {
    "colab": {
     "base_uri": "https://localhost:8080/",
     "height": 50
    },
    "colab_type": "code",
    "id": "MEXYP_lQ8lJ4",
    "outputId": "4346edd0-4acb-42a5-f9ba-044fda2e36c1"
   },
   "outputs": [
    {
     "name": "stdout",
     "output_type": "stream",
     "text": [
      "2016-01-02 00:01:05\n",
      "2019-05-14 22:48:39\n"
     ]
    }
   ],
   "source": [
    "print (min(df['date']))\n",
    "print (max(df['date']))"
   ]
  },
  {
   "cell_type": "markdown",
   "metadata": {
    "colab_type": "text",
    "id": "FwaTGE_pcuVw"
   },
   "source": [
    "## 2- Fix the currencies"
   ]
  },
  {
   "cell_type": "code",
   "execution_count": 76,
   "metadata": {
    "colab": {},
    "colab_type": "code",
    "id": "_WCYy8DScuVx"
   },
   "outputs": [],
   "source": [
    "import re\n",
    "import math"
   ]
  },
  {
   "cell_type": "code",
   "execution_count": 77,
   "metadata": {
    "colab": {},
    "colab_type": "code",
    "id": "lSD5nOHecuVz"
   },
   "outputs": [],
   "source": [
    "def price_to_numeric(price):\n",
    "    try:\n",
    "        if price in {'-', 'void', 'nan', 'na'}:\n",
    "            price = float('nan')\n",
    "        elif type(price) is str:\n",
    "            price = float(re.search('[0-9\\-]{1,}\\.[0-9]{0,}', str(price))[0])\n",
    "        elif math.isnan(price):\n",
    "            pass\n",
    "        return price\n",
    "    except Exception as E:\n",
    "        print(f'Failed for {price}')"
   ]
  },
  {
   "cell_type": "code",
   "execution_count": 78,
   "metadata": {
    "colab": {},
    "colab_type": "code",
    "id": "bfdpcJgDcuV2"
   },
   "outputs": [],
   "source": [
    "df['currencies'] = [re.sub('[0-9\\.\\-]', '', str(i)) for i in df['price']]\n",
    "df['price'] = [price_to_numeric(price) for price in df['price']]"
   ]
  },
  {
   "cell_type": "markdown",
   "metadata": {
    "colab_type": "text",
    "id": "Niup2RKmcuV6"
   },
   "source": [
    "### Convert Currency and Fill in Nans"
   ]
  },
  {
   "cell_type": "code",
   "execution_count": 79,
   "metadata": {
    "colab": {},
    "colab_type": "code",
    "id": "lNLcJtlqcuV7"
   },
   "outputs": [],
   "source": [
    "import requests\n",
    "import json\n",
    "\n",
    "KEY = '526e1baa6d7670e0b9028561dcb56949'\n",
    "endpoint = 'http://data.fixer.io/api/latest?access_key='\n",
    "\n",
    "\n",
    "REAL_TIME = False\n",
    "if REAL_TIME:\n",
    "    page = requests.get(f'{endpoint}{KEY}')\n",
    "    data = json.loads(page.content)\n",
    "else:\n",
    "    page = requests.get('https://gist.githubusercontent.com/zacharyneveu/ebdaa264109edc528e97870f3686b2c0/raw/cf86c535e93f30826d77e64951688e9294304a4a/rates.json')\n",
    "    data = json.loads(page.content)\n",
    "rates = data['rates']\n",
    "\n",
    "data = json.loads(page.content)\n",
    "rates = data['rates']\n",
    "\n",
    "rates['GBP']\n",
    "\n",
    "df['currencies'].value_counts()\n",
    "\n",
    "cur_abbrevs = {'€': 'EUR', '£': 'GBP', '¥': 'JPY', '$': 'USD'}\n",
    "\n",
    "df['cur_abbrevs'] = [cur_abbrevs[sym] if sym in cur_abbrevs.keys() else '' for sym in df['currencies']]"
   ]
  },
  {
   "cell_type": "code",
   "execution_count": 80,
   "metadata": {
    "colab": {},
    "colab_type": "code",
    "id": "UOzeEHvocuV-"
   },
   "outputs": [],
   "source": [
    "df['price_eur'] = [df['price'][i]/rates[df['cur_abbrevs'][i]] if df['cur_abbrevs'][i] != '' else 0 for i in range(df.shape[0])]"
   ]
  },
  {
   "cell_type": "code",
   "execution_count": 81,
   "metadata": {
    "colab": {
     "base_uri": "https://localhost:8080/",
     "height": 468
    },
    "colab_type": "code",
    "id": "afxPsvipcuV_",
    "outputId": "8c7d9f8a-d142-4435-8267-14988135926e"
   },
   "outputs": [
    {
     "data": {
      "text/plain": [
       "<matplotlib.axes._subplots.AxesSubplot at 0x7f32d0e51470>"
      ]
     },
     "execution_count": 81,
     "metadata": {},
     "output_type": "execute_result"
    },
    {
     "data": {
      "image/png": "[encoded data removed]",
      "text/plain": [
       "<Figure size 576x396 with 1 Axes>"
      ]
     },
     "metadata": {
      "needs_background": "light"
     },
     "output_type": "display_data"
    }
   ],
   "source": [
    "country_data = df.groupby('country')['price_eur'].count()\n",
    "country_data.plot(kind='bar', title=\"transactions count by country\")"
   ]
  },
  {
   "cell_type": "markdown",
   "metadata": {
    "colab_type": "text",
    "id": "tfNYjGp0szVo"
   },
   "source": [
    "A lot of weird things pop up..."
   ]
  },
  {
   "cell_type": "markdown",
   "metadata": {
    "colab_type": "text",
    "id": "5pF2uJltcuWD"
   },
   "source": [
    "## 3 - Checking on the missing values"
   ]
  },
  {
   "cell_type": "code",
   "execution_count": 82,
   "metadata": {
    "colab": {
     "base_uri": "https://localhost:8080/",
     "height": 1000
    },
    "colab_type": "code",
    "id": "-lxYSgXXcuWE",
    "outputId": "bcde15b5-f53d-4053-9bc7-f438930bd99d"
   },
   "outputs": [
    {
     "name": "stdout",
     "output_type": "stream",
     "text": [
      "\n",
      "      part      company        country          city    price  \\\n",
      "14916  NaN        Yozio         Greece        Patras   518.38   \n",
      "14917  NaN  Brainsphere       Portugal         Braga   957.24   \n",
      "14918  NaN         Lajo         Greece  Thessaloniki   966.06   \n",
      "14919  NaN       Roodel       Portugal       Aranhas   873.65   \n",
      "17524  NaN        Yozio         Greece        Patras   627.32   \n",
      "17525  NaN   Thoughtmix       Portugal     Amadora\\t   825.80   \n",
      "17526  NaN      Gabcube       Portugal        Almada   188.31   \n",
      "17527  NaN     Buzzbean        Germany    Düsseldorf   429.67   \n",
      "17528  NaN      Zoonder  United States        Boston   521.72   \n",
      "17529  NaN  Twitterbeat         France        Annecy  1031.46   \n",
      "\n",
      "                     date  norm_date   just_date    year currencies  \\\n",
      "14916 2018-02-17 21:43:43 2018-02-17  2018-02-17  2018.0          €   \n",
      "14917 2018-02-17 22:12:24 2018-02-17  2018-02-17  2018.0          €   \n",
      "14918 2018-02-17 22:54:49 2018-02-17  2018-02-17  2018.0          €   \n",
      "14919 2018-02-17 23:36:52 2018-02-17  2018-02-17  2018.0          €   \n",
      "17524 2018-07-12 03:28:46 2018-07-12  2018-07-12  2018.0          €   \n",
      "17525 2018-07-12 05:34:07 2018-07-12  2018-07-12  2018.0          €   \n",
      "17526 2018-07-12 06:49:44 2018-07-12  2018-07-12  2018.0          €   \n",
      "17527 2018-07-12 07:03:50 2018-07-12  2018-07-12  2018.0          €   \n",
      "17528 2018-07-12 08:38:56 2018-07-12  2018-07-12  2018.0          $   \n",
      "17529 2018-07-12 09:48:17 2018-07-12  2018-07-12  2018.0          €   \n",
      "\n",
      "      cur_abbrevs    price_eur  \n",
      "14916         EUR   518.380000  \n",
      "14917         EUR   957.240000  \n",
      "14918         EUR   966.060000  \n",
      "14919         EUR   873.650000  \n",
      "17524         EUR   627.320000  \n",
      "17525         EUR   825.800000  \n",
      "17526         EUR   188.310000  \n",
      "17527         EUR   429.670000  \n",
      "17528         USD   476.784056  \n",
      "17529         EUR  1031.460000  \n",
      "\n",
      "\n",
      "             part        company country        city     price  \\\n",
      "2528   52380-1102        Teklist     NaN      Arnhem    357.78   \n",
      "2947    52125-136    Brainsphere     NaN       Braga    493.94   \n",
      "2956    16714-295        Teklist     NaN      Arnhem    624.40   \n",
      "2994    76335-006       Buzzbean     NaN  Düsseldorf    355.24   \n",
      "3948    54473-578    Brainsphere     NaN       Braga    123.32   \n",
      "3949   54973-9150    Twitterbeat     NaN      Annecy    893.86   \n",
      "3950   41167-0843    Brainsphere     NaN       Braga     93.93   \n",
      "3951    51060-032       Riffpath     NaN   Heraklion    665.09   \n",
      "3952    37205-951       Buzzbean     NaN  Düsseldorf    257.66   \n",
      "3953    37205-951  Chatterbridge     NaN   Barcelona    181.97   \n",
      "3954   24286-1562          Ntags     NaN      Lisbon    296.17   \n",
      "3955    76117-001    Twitterbeat     NaN      Annecy    769.82   \n",
      "3956    54473-578      Flipstorm     NaN      Athens    129.67   \n",
      "3957    76454-100       Buzzbean     NaN  Düsseldorf    178.24   \n",
      "3958    0615-7679      Flipstorm     NaN      Athens    307.67   \n",
      "3959    49967-724     Thoughtmix     NaN   Amadora\\t    643.76   \n",
      "3960   62011-0219     Thoughtmix     NaN   Amadora\\t    726.23   \n",
      "3961   48951-4042    Brainsphere     NaN       Braga    189.16   \n",
      "3962   51531-9500         Roodel     NaN     Aranhas   1013.72   \n",
      "3963    24385-268        Wordify     NaN    New York    147.55   \n",
      "3964    67544-356    Twitterbeat     NaN      Annecy   1258.25   \n",
      "3965   61398-0828          Yozio     NaN      Patras    345.68   \n",
      "3966   55154-5057         Eimbee     NaN      Amiens    506.63   \n",
      "3967    49738-105        Wordify     NaN    New York    623.86   \n",
      "3968    68233-011        Gabcube     NaN      Almada    128.67   \n",
      "3969    0603-6134        Gabcube     NaN      Almada    844.56   \n",
      "3970    58596-001       Buzzbean     NaN  Düsseldorf    464.65   \n",
      "3971    70253-307       Riffpath     NaN   Heraklion    920.78   \n",
      "3972    54473-578          Yozio     NaN      Patras    181.88   \n",
      "3973   60505-2867       Buzzbean     NaN  Düsseldorf    131.15   \n",
      "...           ...            ...     ...         ...       ...   \n",
      "12823   68462-565     Thoughtmix     NaN         NaN    777.58   \n",
      "12824   0603-6134          Yozio     NaN         NaN    775.05   \n",
      "12825  58118-5060          Yozio     NaN         NaN    157.53   \n",
      "12826   51060-032     Thoughtmix     NaN         NaN    176.36   \n",
      "12827   16714-295    Twitterbeat     NaN         NaN    348.26   \n",
      "12828   0603-6134          Ntags     NaN         NaN    714.66   \n",
      "12829   52125-136          Zooxo     NaN         NaN    616.08   \n",
      "12830   70253-307     Thoughtmix     NaN         NaN    880.07   \n",
      "12831   49967-724          Ntags     NaN         NaN    593.00   \n",
      "12832  54868-5165        Zoonder     NaN         NaN    879.56   \n",
      "12833  65044-3014          Zooxo     NaN         NaN    738.09   \n",
      "12834   51346-145    Brainsphere     NaN         NaN    939.35   \n",
      "12835  36987-1697        Wordify     NaN         NaN    371.30   \n",
      "12836  63629-2733        Teklist     NaN         NaN    236.48   \n",
      "12837   49035-530        Teklist     NaN         NaN   1160.47   \n",
      "12838  62670-4404    Shufflebeat     NaN         NaN    517.91   \n",
      "12839   0185-0373     Thoughtmix     NaN         NaN   1007.71   \n",
      "12840   49967-724     Thoughtmix     NaN         NaN    586.71   \n",
      "12841   59779-601          Ntags     NaN         NaN    171.80   \n",
      "12842   35356-325    Shufflebeat     NaN         NaN    436.67   \n",
      "12843   49349-471          Ntags     NaN         NaN   1030.42   \n",
      "12978   98132-889        Gabcube     NaN      Almada    143.36   \n",
      "13721   49349-314  Chatterbridge     NaN   Barcelona    499.86   \n",
      "14438   16590-177    Shufflebeat     NaN       Porto    386.81   \n",
      "16146   58596-001        Wordify     NaN         NaN    492.17   \n",
      "16147   36800-952     Thoughtmix     NaN         NaN    358.03   \n",
      "16148   51346-126       Kanoodle     NaN         NaN  15949.24   \n",
      "16149   49348-574     Thoughtmix     NaN         NaN    295.01   \n",
      "16150   0228-2167          Zooxo     NaN         NaN    682.83   \n",
      "16151   13537-259     Thoughtmix     NaN         NaN    865.37   \n",
      "\n",
      "                     date  norm_date   just_date    year currencies  \\\n",
      "2528  2016-04-21 04:07:31 2016-04-21  2016-04-21  2016.0              \n",
      "2947  2016-05-10 11:13:43 2016-05-10  2016-05-10  2016.0          €   \n",
      "2956  2016-05-10 21:57:15 2016-05-10  2016-05-10  2016.0          €   \n",
      "2994  2016-05-12 15:17:37 2016-05-12  2016-05-12  2016.0          €   \n",
      "3948  2016-07-01 01:09:40 2016-07-01  2016-07-01  2016.0          €   \n",
      "3949  2016-07-01 02:59:50 2016-07-01  2016-07-01  2016.0          €   \n",
      "3950  2016-07-01 04:03:16 2016-07-01  2016-07-01  2016.0          €   \n",
      "3951  2016-07-01 04:56:16 2016-07-01  2016-07-01  2016.0          €   \n",
      "3952  2016-07-01 06:02:32 2016-07-01  2016-07-01  2016.0          €   \n",
      "3953  2016-07-01 06:26:37 2016-07-01  2016-07-01  2016.0          €   \n",
      "3954  2016-07-01 06:45:57 2016-07-01  2016-07-01  2016.0          €   \n",
      "3955  2016-07-01 07:09:36 2016-07-01  2016-07-01  2016.0          €   \n",
      "3956  2016-07-01 07:37:53 2016-07-01  2016-07-01  2016.0          €   \n",
      "3957  2016-07-01 07:40:13 2016-07-01  2016-07-01  2016.0          €   \n",
      "3958  2016-07-01 08:05:28 2016-07-01  2016-07-01  2016.0          €   \n",
      "3959  2016-07-01 08:31:22 2016-07-01  2016-07-01  2016.0          €   \n",
      "3960  2016-07-01 12:08:25 2016-07-01  2016-07-01  2016.0          €   \n",
      "3961  2016-07-01 13:48:33 2016-07-01  2016-07-01  2016.0          €   \n",
      "3962  2016-07-01 15:39:42 2016-07-01  2016-07-01  2016.0          €   \n",
      "3963  2016-07-01 16:13:29 2016-07-01  2016-07-01  2016.0          $   \n",
      "3964  2016-07-01 19:29:53 2016-07-01  2016-07-01  2016.0          €   \n",
      "3965  2016-07-01 22:16:29 2016-07-01  2016-07-01  2016.0          €   \n",
      "3966  2016-07-01 23:47:21 2016-07-01  2016-07-01  2016.0          €   \n",
      "3967  2016-07-02 01:08:09 2016-07-02  2016-07-02  2016.0          $   \n",
      "3968  2016-07-02 02:31:40 2016-07-02  2016-07-02  2016.0          €   \n",
      "3969  2016-07-02 04:37:16 2016-07-02  2016-07-02  2016.0          €   \n",
      "3970  2016-07-02 06:11:48 2016-07-02  2016-07-02  2016.0          €   \n",
      "3971  2016-07-02 09:53:10 2016-07-02  2016-07-02  2016.0          €   \n",
      "3972  2016-07-02 10:23:02 2016-07-02  2016-07-02  2016.0          €   \n",
      "3973  2016-07-02 11:32:32 2016-07-02  2016-07-02  2016.0          €   \n",
      "...                   ...        ...         ...     ...        ...   \n",
      "12823 2017-10-20 21:21:18 2017-10-20  2017-10-20  2017.0          €   \n",
      "12824 2017-10-20 23:17:59 2017-10-20  2017-10-20  2017.0          €   \n",
      "12825 2017-10-20 23:49:53 2017-10-20  2017-10-20  2017.0          €   \n",
      "12826 2017-10-21 00:11:55 2017-10-21  2017-10-21  2017.0          €   \n",
      "12827 2017-10-21 01:24:52 2017-10-21  2017-10-21  2017.0          €   \n",
      "12828 2017-10-21 01:53:26 2017-10-21  2017-10-21  2017.0          €   \n",
      "12829 2017-10-21 04:26:42 2017-10-21  2017-10-21  2017.0          £   \n",
      "12830 2017-10-21 06:19:34 2017-10-21  2017-10-21  2017.0          €   \n",
      "12831 2017-10-21 08:04:12 2017-10-21  2017-10-21  2017.0          €   \n",
      "12832 2017-10-21 09:35:27 2017-10-21  2017-10-21  2017.0          $   \n",
      "12833 2017-10-21 10:17:08 2017-10-21  2017-10-21  2017.0          £   \n",
      "12834 2017-10-21 15:06:59 2017-10-21  2017-10-21  2017.0          €   \n",
      "12835 2017-10-21 15:59:29 2017-10-21  2017-10-21  2017.0          $   \n",
      "12836 2017-10-21 17:14:47 2017-10-21  2017-10-21  2017.0          €   \n",
      "12837 2017-10-21 22:49:57 2017-10-21  2017-10-21  2017.0          €   \n",
      "12838 2017-10-22 02:54:15 2017-10-22  2017-10-22  2017.0          €   \n",
      "12839 2017-10-22 04:16:08 2017-10-22  2017-10-22  2017.0          €   \n",
      "12840 2017-10-22 04:34:36 2017-10-22  2017-10-22  2017.0          €   \n",
      "12841 2017-10-22 05:00:42 2017-10-22  2017-10-22  2017.0          €   \n",
      "12842 2017-10-22 05:10:16 2017-10-22  2017-10-22  2017.0          €   \n",
      "12843 2017-10-22 07:11:01 2017-10-22  2017-10-22  2017.0          €   \n",
      "12978 2017-10-29 08:07:34 2017-10-29  2017-10-29  2017.0          €   \n",
      "13721 2017-12-10 18:18:06 2017-12-10  2017-12-10  2017.0          €   \n",
      "14438 2018-01-20 05:04:30 2018-01-20  2018-01-20  2018.0          €   \n",
      "16146 2018-04-26 08:00:25 2018-04-26  2018-04-26  2018.0          $   \n",
      "16147 2018-04-26 08:16:56 2018-04-26  2018-04-26  2018.0          €   \n",
      "16148 2018-04-26 16:21:00 2018-04-26  2018-04-26  2018.0          ¥   \n",
      "16149 2018-04-26 19:16:45 2018-04-26  2018-04-26  2018.0          €   \n",
      "16150 2018-04-26 22:20:00 2018-04-26  2018-04-26  2018.0          £   \n",
      "16151 2018-04-26 22:34:15 2018-04-26  2018-04-26  2018.0          €   \n",
      "\n",
      "      cur_abbrevs    price_eur  \n",
      "2528                  0.000000  \n",
      "2947          EUR   493.940000  \n",
      "2956          EUR   624.400000  \n",
      "2994          EUR   355.240000  \n",
      "3948          EUR   123.320000  \n",
      "3949          EUR   893.860000  \n",
      "3950          EUR    93.930000  \n",
      "3951          EUR   665.090000  \n",
      "3952          EUR   257.660000  \n",
      "3953          EUR   181.970000  \n",
      "3954          EUR   296.170000  \n",
      "3955          EUR   769.820000  \n",
      "3956          EUR   129.670000  \n",
      "3957          EUR   178.240000  \n",
      "3958          EUR   307.670000  \n",
      "3959          EUR   643.760000  \n",
      "3960          EUR   726.230000  \n",
      "3961          EUR   189.160000  \n",
      "3962          EUR  1013.720000  \n",
      "3963          USD   134.841462  \n",
      "3964          EUR  1258.250000  \n",
      "3965          EUR   345.680000  \n",
      "3966          EUR   506.630000  \n",
      "3967          USD   570.126699  \n",
      "3968          EUR   128.670000  \n",
      "3969          EUR   844.560000  \n",
      "3970          EUR   464.650000  \n",
      "3971          EUR   920.780000  \n",
      "3972          EUR   181.880000  \n",
      "3973          EUR   131.150000  \n",
      "...           ...          ...  \n",
      "12823         EUR   777.580000  \n",
      "12824         EUR   775.050000  \n",
      "12825         EUR   157.530000  \n",
      "12826         EUR   176.360000  \n",
      "12827         EUR   348.260000  \n",
      "12828         EUR   714.660000  \n",
      "12829         GBP   691.128233  \n",
      "12830         EUR   880.070000  \n",
      "12831         EUR   593.000000  \n",
      "12832         USD   803.803160  \n",
      "12833         GBP   828.000969  \n",
      "12834         EUR   939.350000  \n",
      "12835         USD   339.319789  \n",
      "12836         EUR   236.480000  \n",
      "12837         EUR  1160.470000  \n",
      "12838         EUR   517.910000  \n",
      "12839         EUR  1007.710000  \n",
      "12840         EUR   586.710000  \n",
      "12841         EUR   171.800000  \n",
      "12842         EUR   436.670000  \n",
      "12843         EUR  1030.420000  \n",
      "12978         EUR   143.360000  \n",
      "13721         EUR   499.860000  \n",
      "14438         EUR   386.810000  \n",
      "16146         USD   449.779209  \n",
      "16147         EUR   358.030000  \n",
      "16148         JPY   135.662476  \n",
      "16149         EUR   295.010000  \n",
      "16150         GBP   766.009432  \n",
      "16151         EUR   865.370000  \n",
      "\n",
      "[2171 rows x 12 columns]\n",
      "\n",
      "             part      company   country city     price                date  \\\n",
      "3136    68462-565  Brainsphere  Portugal  NaN   1057.85 2016-05-20 08:59:53   \n",
      "3137    54092-515  Shufflebeat  Portugal  NaN    772.92 2016-05-20 09:55:24   \n",
      "3138    0185-0373  Brainsphere  Portugal  NaN   1012.80 2016-05-20 10:42:10   \n",
      "12820   50563-113        Ntags       NaN  NaN    507.49 2017-10-20 04:03:11   \n",
      "12821  55154-5057  Brainsphere       NaN  NaN    421.64 2017-10-20 13:23:34   \n",
      "12822  36987-1697        Ntags       NaN  NaN    937.08 2017-10-20 18:25:00   \n",
      "12823   68462-565   Thoughtmix       NaN  NaN    777.58 2017-10-20 21:21:18   \n",
      "12824   0603-6134        Yozio       NaN  NaN    775.05 2017-10-20 23:17:59   \n",
      "12825  58118-5060        Yozio       NaN  NaN    157.53 2017-10-20 23:49:53   \n",
      "12826   51060-032   Thoughtmix       NaN  NaN    176.36 2017-10-21 00:11:55   \n",
      "12827   16714-295  Twitterbeat       NaN  NaN    348.26 2017-10-21 01:24:52   \n",
      "12828   0603-6134        Ntags       NaN  NaN    714.66 2017-10-21 01:53:26   \n",
      "12829   52125-136        Zooxo       NaN  NaN    616.08 2017-10-21 04:26:42   \n",
      "12830   70253-307   Thoughtmix       NaN  NaN    880.07 2017-10-21 06:19:34   \n",
      "12831   49967-724        Ntags       NaN  NaN    593.00 2017-10-21 08:04:12   \n",
      "12832  54868-5165      Zoonder       NaN  NaN    879.56 2017-10-21 09:35:27   \n",
      "12833  65044-3014        Zooxo       NaN  NaN    738.09 2017-10-21 10:17:08   \n",
      "12834   51346-145  Brainsphere       NaN  NaN    939.35 2017-10-21 15:06:59   \n",
      "12835  36987-1697      Wordify       NaN  NaN    371.30 2017-10-21 15:59:29   \n",
      "12836  63629-2733      Teklist       NaN  NaN    236.48 2017-10-21 17:14:47   \n",
      "12837   49035-530      Teklist       NaN  NaN   1160.47 2017-10-21 22:49:57   \n",
      "12838  62670-4404  Shufflebeat       NaN  NaN    517.91 2017-10-22 02:54:15   \n",
      "12839   0185-0373   Thoughtmix       NaN  NaN   1007.71 2017-10-22 04:16:08   \n",
      "12840   49967-724   Thoughtmix       NaN  NaN    586.71 2017-10-22 04:34:36   \n",
      "12841   59779-601        Ntags       NaN  NaN    171.80 2017-10-22 05:00:42   \n",
      "12842   35356-325  Shufflebeat       NaN  NaN    436.67 2017-10-22 05:10:16   \n",
      "12843   49349-471        Ntags       NaN  NaN   1030.42 2017-10-22 07:11:01   \n",
      "16146   58596-001      Wordify       NaN  NaN    492.17 2018-04-26 08:00:25   \n",
      "16147   36800-952   Thoughtmix       NaN  NaN    358.03 2018-04-26 08:16:56   \n",
      "16148   51346-126     Kanoodle       NaN  NaN  15949.24 2018-04-26 16:21:00   \n",
      "16149   49348-574   Thoughtmix       NaN  NaN    295.01 2018-04-26 19:16:45   \n",
      "16150   0228-2167        Zooxo       NaN  NaN    682.83 2018-04-26 22:20:00   \n",
      "16151   13537-259   Thoughtmix       NaN  NaN    865.37 2018-04-26 22:34:15   \n",
      "\n",
      "       norm_date   just_date    year currencies cur_abbrevs    price_eur  \n",
      "3136  2016-05-20  2016-05-20  2016.0          €         EUR  1057.850000  \n",
      "3137  2016-05-20  2016-05-20  2016.0          €         EUR   772.920000  \n",
      "3138  2016-05-20  2016-05-20  2016.0          €         EUR  1012.800000  \n",
      "12820 2017-10-20  2017-10-20  2017.0          €         EUR   507.490000  \n",
      "12821 2017-10-20  2017-10-20  2017.0          €         EUR   421.640000  \n",
      "12822 2017-10-20  2017-10-20  2017.0          €         EUR   937.080000  \n",
      "12823 2017-10-20  2017-10-20  2017.0          €         EUR   777.580000  \n",
      "12824 2017-10-20  2017-10-20  2017.0          €         EUR   775.050000  \n",
      "12825 2017-10-20  2017-10-20  2017.0          €         EUR   157.530000  \n",
      "12826 2017-10-21  2017-10-21  2017.0          €         EUR   176.360000  \n",
      "12827 2017-10-21  2017-10-21  2017.0          €         EUR   348.260000  \n",
      "12828 2017-10-21  2017-10-21  2017.0          €         EUR   714.660000  \n",
      "12829 2017-10-21  2017-10-21  2017.0          £         GBP   691.128233  \n",
      "12830 2017-10-21  2017-10-21  2017.0          €         EUR   880.070000  \n",
      "12831 2017-10-21  2017-10-21  2017.0          €         EUR   593.000000  \n",
      "12832 2017-10-21  2017-10-21  2017.0          $         USD   803.803160  \n",
      "12833 2017-10-21  2017-10-21  2017.0          £         GBP   828.000969  \n",
      "12834 2017-10-21  2017-10-21  2017.0          €         EUR   939.350000  \n",
      "12835 2017-10-21  2017-10-21  2017.0          $         USD   339.319789  \n",
      "12836 2017-10-21  2017-10-21  2017.0          €         EUR   236.480000  \n",
      "12837 2017-10-21  2017-10-21  2017.0          €         EUR  1160.470000  \n",
      "12838 2017-10-22  2017-10-22  2017.0          €         EUR   517.910000  \n",
      "12839 2017-10-22  2017-10-22  2017.0          €         EUR  1007.710000  \n",
      "12840 2017-10-22  2017-10-22  2017.0          €         EUR   586.710000  \n",
      "12841 2017-10-22  2017-10-22  2017.0          €         EUR   171.800000  \n",
      "12842 2017-10-22  2017-10-22  2017.0          €         EUR   436.670000  \n",
      "12843 2017-10-22  2017-10-22  2017.0          €         EUR  1030.420000  \n",
      "16146 2018-04-26  2018-04-26  2018.0          $         USD   449.779209  \n",
      "16147 2018-04-26  2018-04-26  2018.0          €         EUR   358.030000  \n",
      "16148 2018-04-26  2018-04-26  2018.0          ¥         JPY   135.662476  \n",
      "16149 2018-04-26  2018-04-26  2018.0          €         EUR   295.010000  \n",
      "16150 2018-04-26  2018-04-26  2018.0          £         GBP   766.009432  \n",
      "16151 2018-04-26  2018-04-26  2018.0          €         EUR   865.370000  \n",
      "\n",
      "             part        company   country        city  price  \\\n",
      "8683    49349-820  Chatterbridge     Spain   Barcelona    NaN   \n",
      "8684   10267-2529     Thoughtmix  Portugal   Amadora\\t    NaN   \n",
      "8685    13537-259          Ntags  Portugal      Lisbon    NaN   \n",
      "8934    68084-172    Twitterbeat    France      Annecy    NaN   \n",
      "10328  54868-0823  Chatterbridge     Spain   Barcelona    NaN   \n",
      "10329   41163-428         Avaveo    France        Nice    NaN   \n",
      "10330   52959-433       Buzzbean   Germany  Düsseldorf    NaN   \n",
      "11015   49967-724         Roodel  Portugal     Aranhas    NaN   \n",
      "11155   35356-325     Thoughtmix  Portugal   Amadora\\t    NaN   \n",
      "11156   24385-268    Twitterbeat    France      Annecy    NaN   \n",
      "11157   59779-601     Thoughtmix  Portugal   Amadora\\t    NaN   \n",
      "\n",
      "                     date  norm_date   just_date    year currencies  \\\n",
      "8683  2017-03-03 15:24:39 2017-03-03  2017-03-03  2017.0              \n",
      "8684  2017-03-03 18:07:56 2017-03-03  2017-03-03  2017.0              \n",
      "8685  2017-03-03 19:08:54 2017-03-03  2017-03-03  2017.0              \n",
      "8934  2017-03-18 01:53:38 2017-03-18  2017-03-18  2017.0       void   \n",
      "10328 2017-06-02 06:49:09 2017-06-02  2017-06-02  2017.0       void   \n",
      "10329 2017-06-02 07:04:35 2017-06-02  2017-06-02  2017.0              \n",
      "10330 2017-06-02 09:04:46 2017-06-02  2017-06-02  2017.0              \n",
      "11015 2017-07-11 08:00:56 2017-07-11  2017-07-11  2017.0        nan   \n",
      "11155 2017-07-19 00:55:13 2017-07-19  2017-07-19  2017.0         na   \n",
      "11156 2017-07-19 01:34:53 2017-07-19  2017-07-19  2017.0         na   \n",
      "11157 2017-07-19 01:45:59 2017-07-19  2017-07-19  2017.0         na   \n",
      "\n",
      "      cur_abbrevs  price_eur  \n",
      "8683                     0.0  \n",
      "8684                     0.0  \n",
      "8685                     0.0  \n",
      "8934                     0.0  \n",
      "10328                    0.0  \n",
      "10329                    0.0  \n",
      "10330                    0.0  \n",
      "11015                    0.0  \n",
      "11155                    0.0  \n",
      "11156                    0.0  \n",
      "11157                    0.0  \n",
      "\n",
      "             part        company        country        city    price date  \\\n",
      "3539    17156-617     Thoughtmix       Portugal   Amadora\\t   791.86  NaT   \n",
      "3540   54868-5165    Shufflebeat       Portugal       Porto   525.24  NaT   \n",
      "9295    52343-025     Thoughtmix       Portugal   Amadora\\t   662.06  NaT   \n",
      "9296    49738-105  Chatterbridge          Spain   Barcelona   442.31  NaT   \n",
      "9328    0615-7679     Thoughtmix       Portugal   Amadora\\t   314.43  NaT   \n",
      "9329    35356-325        Wordify  United States    New York   330.75  NaT   \n",
      "9330    0268-1401     Thoughtmix       Portugal   Amadora\\t  1000.77  NaT   \n",
      "9331    51138-049    Twitterbeat         France      Annecy  1032.04  NaT   \n",
      "9332    68233-011    Brainsphere       Portugal       Braga   588.07  NaT   \n",
      "9333    54473-578    Shufflebeat       Portugal       Porto   192.34  NaT   \n",
      "9334   54868-0823        Rhycero         France     Arcueil   108.62  NaT   \n",
      "19162  63629-2733       Buzzbean        Germany  Düsseldorf   187.26  NaT   \n",
      "19163   0268-6107     Thoughtmix       Portugal   Amadora\\t   466.78  NaT   \n",
      "19306   49349-471    Shufflebeat       Portugal       Porto   958.36  NaT   \n",
      "19307   68180-121    Shufflebeat       Portugal       Porto  1155.43  NaT   \n",
      "19774   49349-314    Twitterbeat         France      Annecy   480.73  NaT   \n",
      "20197   55700-014       Buzzbean        Germany  Düsseldorf   712.69  NaT   \n",
      "20198   13537-468          Ntags       Portugal      Lisbon   839.79  NaT   \n",
      "\n",
      "      norm_date just_date  year currencies cur_abbrevs    price_eur  \n",
      "3539        NaT       NaT   NaN          €         EUR   791.860000  \n",
      "3540        NaT       NaT   NaN          €         EUR   525.240000  \n",
      "9295        NaT       NaT   NaN          €         EUR   662.060000  \n",
      "9296        NaT       NaT   NaN          €         EUR   442.310000  \n",
      "9328        NaT       NaT   NaN          €         EUR   314.430000  \n",
      "9329        NaT       NaT   NaN          $         USD   302.262376  \n",
      "9330        NaT       NaT   NaN          €         EUR  1000.770000  \n",
      "9331        NaT       NaT   NaN          €         EUR  1032.040000  \n",
      "9332        NaT       NaT   NaN          €         EUR   588.070000  \n",
      "9333        NaT       NaT   NaN          €         EUR   192.340000  \n",
      "9334        NaT       NaT   NaN          €         EUR   108.620000  \n",
      "19162       NaT       NaT   NaN          €         EUR   187.260000  \n",
      "19163       NaT       NaT   NaN          €         EUR   466.780000  \n",
      "19306       NaT       NaT   NaN          €         EUR   958.360000  \n",
      "19307       NaT       NaT   NaN          €         EUR  1155.430000  \n",
      "19774       NaT       NaT   NaN          €         EUR   480.730000  \n",
      "20197       NaT       NaT   NaN          €         EUR   712.690000  \n",
      "20198       NaT       NaT   NaN          €         EUR   839.790000  \n",
      "\n",
      "             part        company        country        city    price date  \\\n",
      "3539    17156-617     Thoughtmix       Portugal   Amadora\\t   791.86  NaT   \n",
      "3540   54868-5165    Shufflebeat       Portugal       Porto   525.24  NaT   \n",
      "9295    52343-025     Thoughtmix       Portugal   Amadora\\t   662.06  NaT   \n",
      "9296    49738-105  Chatterbridge          Spain   Barcelona   442.31  NaT   \n",
      "9328    0615-7679     Thoughtmix       Portugal   Amadora\\t   314.43  NaT   \n",
      "9329    35356-325        Wordify  United States    New York   330.75  NaT   \n",
      "9330    0268-1401     Thoughtmix       Portugal   Amadora\\t  1000.77  NaT   \n",
      "9331    51138-049    Twitterbeat         France      Annecy  1032.04  NaT   \n",
      "9332    68233-011    Brainsphere       Portugal       Braga   588.07  NaT   \n",
      "9333    54473-578    Shufflebeat       Portugal       Porto   192.34  NaT   \n",
      "9334   54868-0823        Rhycero         France     Arcueil   108.62  NaT   \n",
      "19162  63629-2733       Buzzbean        Germany  Düsseldorf   187.26  NaT   \n",
      "19163   0268-6107     Thoughtmix       Portugal   Amadora\\t   466.78  NaT   \n",
      "19306   49349-471    Shufflebeat       Portugal       Porto   958.36  NaT   \n",
      "19307   68180-121    Shufflebeat       Portugal       Porto  1155.43  NaT   \n",
      "19774   49349-314    Twitterbeat         France      Annecy   480.73  NaT   \n",
      "20197   55700-014       Buzzbean        Germany  Düsseldorf   712.69  NaT   \n",
      "20198   13537-468          Ntags       Portugal      Lisbon   839.79  NaT   \n",
      "\n",
      "      norm_date just_date  year currencies cur_abbrevs    price_eur  \n",
      "3539        NaT       NaT   NaN          €         EUR   791.860000  \n",
      "3540        NaT       NaT   NaN          €         EUR   525.240000  \n",
      "9295        NaT       NaT   NaN          €         EUR   662.060000  \n",
      "9296        NaT       NaT   NaN          €         EUR   442.310000  \n",
      "9328        NaT       NaT   NaN          €         EUR   314.430000  \n",
      "9329        NaT       NaT   NaN          $         USD   302.262376  \n",
      "9330        NaT       NaT   NaN          €         EUR  1000.770000  \n",
      "9331        NaT       NaT   NaN          €         EUR  1032.040000  \n",
      "9332        NaT       NaT   NaN          €         EUR   588.070000  \n",
      "9333        NaT       NaT   NaN          €         EUR   192.340000  \n",
      "9334        NaT       NaT   NaN          €         EUR   108.620000  \n",
      "19162       NaT       NaT   NaN          €         EUR   187.260000  \n",
      "19163       NaT       NaT   NaN          €         EUR   466.780000  \n",
      "19306       NaT       NaT   NaN          €         EUR   958.360000  \n",
      "19307       NaT       NaT   NaN          €         EUR  1155.430000  \n",
      "19774       NaT       NaT   NaN          €         EUR   480.730000  \n",
      "20197       NaT       NaT   NaN          €         EUR   712.690000  \n",
      "20198       NaT       NaT   NaN          €         EUR   839.790000  \n",
      "\n",
      "             part        company        country        city    price date  \\\n",
      "3539    17156-617     Thoughtmix       Portugal   Amadora\\t   791.86  NaT   \n",
      "3540   54868-5165    Shufflebeat       Portugal       Porto   525.24  NaT   \n",
      "9295    52343-025     Thoughtmix       Portugal   Amadora\\t   662.06  NaT   \n",
      "9296    49738-105  Chatterbridge          Spain   Barcelona   442.31  NaT   \n",
      "9328    0615-7679     Thoughtmix       Portugal   Amadora\\t   314.43  NaT   \n",
      "9329    35356-325        Wordify  United States    New York   330.75  NaT   \n",
      "9330    0268-1401     Thoughtmix       Portugal   Amadora\\t  1000.77  NaT   \n",
      "9331    51138-049    Twitterbeat         France      Annecy  1032.04  NaT   \n",
      "9332    68233-011    Brainsphere       Portugal       Braga   588.07  NaT   \n",
      "9333    54473-578    Shufflebeat       Portugal       Porto   192.34  NaT   \n",
      "9334   54868-0823        Rhycero         France     Arcueil   108.62  NaT   \n",
      "19162  63629-2733       Buzzbean        Germany  Düsseldorf   187.26  NaT   \n",
      "19163   0268-6107     Thoughtmix       Portugal   Amadora\\t   466.78  NaT   \n",
      "19306   49349-471    Shufflebeat       Portugal       Porto   958.36  NaT   \n",
      "19307   68180-121    Shufflebeat       Portugal       Porto  1155.43  NaT   \n",
      "19774   49349-314    Twitterbeat         France      Annecy   480.73  NaT   \n",
      "20197   55700-014       Buzzbean        Germany  Düsseldorf   712.69  NaT   \n",
      "20198   13537-468          Ntags       Portugal      Lisbon   839.79  NaT   \n",
      "\n",
      "      norm_date just_date  year currencies cur_abbrevs    price_eur  \n",
      "3539        NaT       NaT   NaN          €         EUR   791.860000  \n",
      "3540        NaT       NaT   NaN          €         EUR   525.240000  \n",
      "9295        NaT       NaT   NaN          €         EUR   662.060000  \n",
      "9296        NaT       NaT   NaN          €         EUR   442.310000  \n",
      "9328        NaT       NaT   NaN          €         EUR   314.430000  \n",
      "9329        NaT       NaT   NaN          $         USD   302.262376  \n",
      "9330        NaT       NaT   NaN          €         EUR  1000.770000  \n",
      "9331        NaT       NaT   NaN          €         EUR  1032.040000  \n",
      "9332        NaT       NaT   NaN          €         EUR   588.070000  \n",
      "9333        NaT       NaT   NaN          €         EUR   192.340000  \n",
      "9334        NaT       NaT   NaN          €         EUR   108.620000  \n",
      "19162       NaT       NaT   NaN          €         EUR   187.260000  \n",
      "19163       NaT       NaT   NaN          €         EUR   466.780000  \n",
      "19306       NaT       NaT   NaN          €         EUR   958.360000  \n",
      "19307       NaT       NaT   NaN          €         EUR  1155.430000  \n",
      "19774       NaT       NaT   NaN          €         EUR   480.730000  \n",
      "20197       NaT       NaT   NaN          €         EUR   712.690000  \n",
      "20198       NaT       NaT   NaN          €         EUR   839.790000  \n",
      "\n",
      "             part        company        country        city    price date  \\\n",
      "3539    17156-617     Thoughtmix       Portugal   Amadora\\t   791.86  NaT   \n",
      "3540   54868-5165    Shufflebeat       Portugal       Porto   525.24  NaT   \n",
      "9295    52343-025     Thoughtmix       Portugal   Amadora\\t   662.06  NaT   \n",
      "9296    49738-105  Chatterbridge          Spain   Barcelona   442.31  NaT   \n",
      "9328    0615-7679     Thoughtmix       Portugal   Amadora\\t   314.43  NaT   \n",
      "9329    35356-325        Wordify  United States    New York   330.75  NaT   \n",
      "9330    0268-1401     Thoughtmix       Portugal   Amadora\\t  1000.77  NaT   \n",
      "9331    51138-049    Twitterbeat         France      Annecy  1032.04  NaT   \n",
      "9332    68233-011    Brainsphere       Portugal       Braga   588.07  NaT   \n",
      "9333    54473-578    Shufflebeat       Portugal       Porto   192.34  NaT   \n",
      "9334   54868-0823        Rhycero         France     Arcueil   108.62  NaT   \n",
      "19162  63629-2733       Buzzbean        Germany  Düsseldorf   187.26  NaT   \n",
      "19163   0268-6107     Thoughtmix       Portugal   Amadora\\t   466.78  NaT   \n",
      "19306   49349-471    Shufflebeat       Portugal       Porto   958.36  NaT   \n",
      "19307   68180-121    Shufflebeat       Portugal       Porto  1155.43  NaT   \n",
      "19774   49349-314    Twitterbeat         France      Annecy   480.73  NaT   \n",
      "20197   55700-014       Buzzbean        Germany  Düsseldorf   712.69  NaT   \n",
      "20198   13537-468          Ntags       Portugal      Lisbon   839.79  NaT   \n",
      "\n",
      "      norm_date just_date  year currencies cur_abbrevs    price_eur  \n",
      "3539        NaT       NaT   NaN          €         EUR   791.860000  \n",
      "3540        NaT       NaT   NaN          €         EUR   525.240000  \n",
      "9295        NaT       NaT   NaN          €         EUR   662.060000  \n",
      "9296        NaT       NaT   NaN          €         EUR   442.310000  \n",
      "9328        NaT       NaT   NaN          €         EUR   314.430000  \n",
      "9329        NaT       NaT   NaN          $         USD   302.262376  \n",
      "9330        NaT       NaT   NaN          €         EUR  1000.770000  \n",
      "9331        NaT       NaT   NaN          €         EUR  1032.040000  \n",
      "9332        NaT       NaT   NaN          €         EUR   588.070000  \n",
      "9333        NaT       NaT   NaN          €         EUR   192.340000  \n",
      "9334        NaT       NaT   NaN          €         EUR   108.620000  \n",
      "19162       NaT       NaT   NaN          €         EUR   187.260000  \n",
      "19163       NaT       NaT   NaN          €         EUR   466.780000  \n",
      "19306       NaT       NaT   NaN          €         EUR   958.360000  \n",
      "19307       NaT       NaT   NaN          €         EUR  1155.430000  \n",
      "19774       NaT       NaT   NaN          €         EUR   480.730000  \n",
      "20197       NaT       NaT   NaN          €         EUR   712.690000  \n",
      "20198       NaT       NaT   NaN          €         EUR   839.790000  \n",
      "\n",
      "\n",
      "\n"
     ]
    }
   ],
   "source": [
    "for i in df.columns:\n",
    "    if not df[df[i].isnull()].empty:\n",
    "        print ()\n",
    "        print (df[df[i].isnull()])\n",
    "    else:\n",
    "        print ()\n",
    "        #print ('No missing values for %s' % df['i'] )"
   ]
  },
  {
   "cell_type": "markdown",
   "metadata": {
    "colab_type": "text",
    "id": "sVGHR78scuWG"
   },
   "source": [
    "For now we keep all the rows and we will decide how to deal with missing info later, depending on the kind of analysis that we will need to do."
   ]
  },
  {
   "cell_type": "markdown",
   "metadata": {
    "colab_type": "text",
    "id": "HBEEoRXHcuWG"
   },
   "source": [
    "## 4 - Fix the misspellings "
   ]
  },
  {
   "cell_type": "code",
   "execution_count": 83,
   "metadata": {
    "colab": {},
    "colab_type": "code",
    "id": "SuQvKn1LcuWH"
   },
   "outputs": [],
   "source": [
    "from difflib import get_close_matches"
   ]
  },
  {
   "cell_type": "markdown",
   "metadata": {
    "colab_type": "text",
    "id": "XhDOdsjPcuWJ"
   },
   "source": [
    "The function `fix_typos` is based around the idea that occurrences of individual typos are unlikely to be written the same way very often. This function finds all rare values in a column, and replaces them with similar but popular counterparts. In practice, this works well for correcting typos in the country, company, and city columns."
   ]
  },
  {
   "cell_type": "code",
   "execution_count": 84,
   "metadata": {
    "colab": {},
    "colab_type": "code",
    "id": "Yo939wFJcuWJ"
   },
   "outputs": [],
   "source": [
    "def fix_typos(col, min_thresh):\n",
    "    \"\"\"\n",
    "    col: DataFrame column (Series) of strings to fix typos in\n",
    "    min_thresh: Minimum count to determine that object is a typo\n",
    "    \"\"\"\n",
    "    counts = col.value_counts()\n",
    "    rare = [c for c in counts.keys() if counts[c] < min_thresh]\n",
    "    common = [c for c in counts.keys() if counts[c] >= min_thresh]\n",
    "    return [c if c in common else (get_close_matches(str(c), common) or [None])[0] for c in col]"
   ]
  },
  {
   "cell_type": "code",
   "execution_count": 85,
   "metadata": {
    "colab": {},
    "colab_type": "code",
    "id": "mZJ4YNgtcuWL"
   },
   "outputs": [],
   "source": [
    "for col in ['company', 'country', 'city']:\n",
    "    df[col] = fix_typos(df[col], 10)"
   ]
  },
  {
   "cell_type": "code",
   "execution_count": 86,
   "metadata": {
    "colab": {
     "base_uri": "https://localhost:8080/",
     "height": 384
    },
    "colab_type": "code",
    "id": "6tnserw4cuWN",
    "outputId": "5ad73c34-1d12-41e3-9413-fb9cbda487ce"
   },
   "outputs": [
    {
     "data": {
      "text/html": [
       "<div>\n",
       "<style scoped>\n",
       "    .dataframe tbody tr th:only-of-type {\n",
       "        vertical-align: middle;\n",
       "    }\n",
       "\n",
       "    .dataframe tbody tr th {\n",
       "        vertical-align: top;\n",
       "    }\n",
       "\n",
       "    .dataframe thead th {\n",
       "        text-align: right;\n",
       "    }\n",
       "</style>\n",
       "<table border=\"1\" class=\"dataframe\">\n",
       "  <thead>\n",
       "    <tr style=\"text-align: right;\">\n",
       "      <th></th>\n",
       "      <th>part</th>\n",
       "      <th>company</th>\n",
       "      <th>country</th>\n",
       "      <th>city</th>\n",
       "      <th>price</th>\n",
       "      <th>date</th>\n",
       "      <th>norm_date</th>\n",
       "      <th>just_date</th>\n",
       "      <th>year</th>\n",
       "      <th>currencies</th>\n",
       "      <th>cur_abbrevs</th>\n",
       "      <th>price_eur</th>\n",
       "    </tr>\n",
       "  </thead>\n",
       "  <tbody>\n",
       "    <tr>\n",
       "      <th>0</th>\n",
       "      <td>54868-5165</td>\n",
       "      <td>Chatterbridge</td>\n",
       "      <td>Spain</td>\n",
       "      <td>Barcelona</td>\n",
       "      <td>784.79</td>\n",
       "      <td>2016-01-02 00:01:05</td>\n",
       "      <td>2016-01-02</td>\n",
       "      <td>2016-01-02</td>\n",
       "      <td>2016.0</td>\n",
       "      <td>€</td>\n",
       "      <td>EUR</td>\n",
       "      <td>784.79</td>\n",
       "    </tr>\n",
       "    <tr>\n",
       "      <th>1</th>\n",
       "      <td>60505-2867</td>\n",
       "      <td>Lajo</td>\n",
       "      <td>Greece</td>\n",
       "      <td>Thessaloniki</td>\n",
       "      <td>187.99</td>\n",
       "      <td>2016-01-02 00:05:26</td>\n",
       "      <td>2016-01-02</td>\n",
       "      <td>2016-01-02</td>\n",
       "      <td>2016.0</td>\n",
       "      <td>€</td>\n",
       "      <td>EUR</td>\n",
       "      <td>187.99</td>\n",
       "    </tr>\n",
       "    <tr>\n",
       "      <th>2</th>\n",
       "      <td>24385-268</td>\n",
       "      <td>Flipstorm</td>\n",
       "      <td>Greece</td>\n",
       "      <td>Athens</td>\n",
       "      <td>221.73</td>\n",
       "      <td>2016-01-02 00:18:30</td>\n",
       "      <td>2016-01-02</td>\n",
       "      <td>2016-01-02</td>\n",
       "      <td>2016.0</td>\n",
       "      <td>€</td>\n",
       "      <td>EUR</td>\n",
       "      <td>221.73</td>\n",
       "    </tr>\n",
       "    <tr>\n",
       "      <th>3</th>\n",
       "      <td>76117-001</td>\n",
       "      <td>Twitterbeat</td>\n",
       "      <td>France</td>\n",
       "      <td>Annecy</td>\n",
       "      <td>1075.82</td>\n",
       "      <td>2016-01-02 02:32:30</td>\n",
       "      <td>2016-01-02</td>\n",
       "      <td>2016-01-02</td>\n",
       "      <td>2016.0</td>\n",
       "      <td>€</td>\n",
       "      <td>EUR</td>\n",
       "      <td>1075.82</td>\n",
       "    </tr>\n",
       "    <tr>\n",
       "      <th>4</th>\n",
       "      <td>44946-1046</td>\n",
       "      <td>Chatterbridge</td>\n",
       "      <td>Spain</td>\n",
       "      <td>Barcelona</td>\n",
       "      <td>412.55</td>\n",
       "      <td>2016-01-02 04:51:55</td>\n",
       "      <td>2016-01-02</td>\n",
       "      <td>2016-01-02</td>\n",
       "      <td>2016.0</td>\n",
       "      <td>€</td>\n",
       "      <td>EUR</td>\n",
       "      <td>412.55</td>\n",
       "    </tr>\n",
       "  </tbody>\n",
       "</table>\n",
       "</div>"
      ],
      "text/plain": [
       "         part        company country          city    price  \\\n",
       "0  54868-5165  Chatterbridge   Spain     Barcelona   784.79   \n",
       "1  60505-2867           Lajo  Greece  Thessaloniki   187.99   \n",
       "2   24385-268      Flipstorm  Greece        Athens   221.73   \n",
       "3   76117-001    Twitterbeat  France        Annecy  1075.82   \n",
       "4  44946-1046  Chatterbridge   Spain     Barcelona   412.55   \n",
       "\n",
       "                 date  norm_date   just_date    year currencies cur_abbrevs  \\\n",
       "0 2016-01-02 00:01:05 2016-01-02  2016-01-02  2016.0          €         EUR   \n",
       "1 2016-01-02 00:05:26 2016-01-02  2016-01-02  2016.0          €         EUR   \n",
       "2 2016-01-02 00:18:30 2016-01-02  2016-01-02  2016.0          €         EUR   \n",
       "3 2016-01-02 02:32:30 2016-01-02  2016-01-02  2016.0          €         EUR   \n",
       "4 2016-01-02 04:51:55 2016-01-02  2016-01-02  2016.0          €         EUR   \n",
       "\n",
       "   price_eur  \n",
       "0     784.79  \n",
       "1     187.99  \n",
       "2     221.73  \n",
       "3    1075.82  \n",
       "4     412.55  "
      ]
     },
     "execution_count": 86,
     "metadata": {},
     "output_type": "execute_result"
    }
   ],
   "source": [
    "df.head()"
   ]
  },
  {
   "cell_type": "code",
   "execution_count": 87,
   "metadata": {
    "colab": {
     "base_uri": "https://localhost:8080/",
     "height": 461
    },
    "colab_type": "code",
    "id": "bWfF3IShcuWP",
    "outputId": "4491d372-0fe5-4881-dbea-76e2cc719732"
   },
   "outputs": [
    {
     "data": {
      "text/plain": [
       "<matplotlib.axes._subplots.AxesSubplot at 0x7f32d1a31ba8>"
      ]
     },
     "execution_count": 87,
     "metadata": {},
     "output_type": "execute_result"
    },
    {
     "data": {
      "image/png": "[encoded data removed]",
      "text/plain": [
       "<Figure size 1008x432 with 1 Axes>"
      ]
     },
     "metadata": {
      "needs_background": "light"
     },
     "output_type": "display_data"
    }
   ],
   "source": [
    "df.boxplot(column='price_eur', by='country', figsize=(14,6), grid=False)"
   ]
  },
  {
   "cell_type": "markdown",
   "metadata": {
    "colab_type": "text",
    "id": "mSCJ2MSJcuWR"
   },
   "source": [
    "---\n",
    "## Part 2: Enriching the data"
   ]
  },
  {
   "cell_type": "markdown",
   "metadata": {
    "colab_type": "text",
    "id": "2DWvosgjcuWR"
   },
   "source": [
    "A common task for a data scientists is to combine or enrich data from internal sources with data available from external sources. The purpose of this can be either to fix issues with the data or to make it easier to derive insights from the data.\n",
    "\n",
    "In this part you should enrich your data with data from at least one external source. You may look to part 4 for some  inspiration as to what is required. Your solution should be automated, i.e., you can not ask the reader of your notebook to download any data manually. You should argue why and what you expect to achieve by the enrichments you are doing."
   ]
  },
  {
   "cell_type": "code",
   "execution_count": 88,
   "metadata": {
    "colab": {},
    "colab_type": "code",
    "id": "kh6GvZXQcuWS"
   },
   "outputs": [],
   "source": [
    "from datetime import datetime, timedelta"
   ]
  },
  {
   "cell_type": "code",
   "execution_count": 89,
   "metadata": {
    "colab": {},
    "colab_type": "code",
    "id": "NlhwmzTncuWT"
   },
   "outputs": [],
   "source": [
    "def get_day_of_quarter(date):\n",
    "    try:\n",
    "        quarter = date.quarter\n",
    "        qstart = datetime(date.year, 3*quarter - 2, 1)\n",
    "        return int((date-qstart).days)\n",
    "    except Exception as E:\n",
    "        return None"
   ]
  },
  {
   "cell_type": "code",
   "execution_count": 90,
   "metadata": {
    "colab": {},
    "colab_type": "code",
    "id": "OcZaFZwNcuWV"
   },
   "outputs": [],
   "source": [
    "df['day_of_quarter'] = [get_day_of_quarter(i) for i in df['date']]\n",
    "df['quarter'] = [d.quarter for d in df['date']]"
   ]
  },
  {
   "cell_type": "markdown",
   "metadata": {
    "colab_type": "text",
    "id": "um6uAsxfcuWW"
   },
   "source": [
    "Create a first day of the month column as well. This seems super simple, but will be used to join the `transactions` and `stocks` tables in the database."
   ]
  },
  {
   "cell_type": "code",
   "execution_count": 91,
   "metadata": {
    "colab": {},
    "colab_type": "code",
    "id": "bmHzgkxMcuWX"
   },
   "outputs": [],
   "source": [
    "df['first_of_month'] = [\"-\".join(str(d).split('-')[:2]+['01'])for d in df.just_date]"
   ]
  },
  {
   "cell_type": "code",
   "execution_count": 92,
   "metadata": {
    "colab": {},
    "colab_type": "code",
    "id": "lu0ViQ62cuWa"
   },
   "outputs": [],
   "source": [
    "df['first_of_month'] = [pd.datetime(d.year, d.month, 1) if type(d.year+d.month) is int else pd.NaT for d in df['just_date']]"
   ]
  },
  {
   "cell_type": "code",
   "execution_count": 93,
   "metadata": {
    "colab": {
     "base_uri": "https://localhost:8080/",
     "height": 384
    },
    "colab_type": "code",
    "id": "lfaFUfxQcuWb",
    "outputId": "b97c3187-f423-41cf-c246-8c3c6cd4a3e8"
   },
   "outputs": [
    {
     "data": {
      "text/html": [
       "<div>\n",
       "<style scoped>\n",
       "    .dataframe tbody tr th:only-of-type {\n",
       "        vertical-align: middle;\n",
       "    }\n",
       "\n",
       "    .dataframe tbody tr th {\n",
       "        vertical-align: top;\n",
       "    }\n",
       "\n",
       "    .dataframe thead th {\n",
       "        text-align: right;\n",
       "    }\n",
       "</style>\n",
       "<table border=\"1\" class=\"dataframe\">\n",
       "  <thead>\n",
       "    <tr style=\"text-align: right;\">\n",
       "      <th></th>\n",
       "      <th>part</th>\n",
       "      <th>company</th>\n",
       "      <th>country</th>\n",
       "      <th>city</th>\n",
       "      <th>price</th>\n",
       "      <th>date</th>\n",
       "      <th>norm_date</th>\n",
       "      <th>just_date</th>\n",
       "      <th>year</th>\n",
       "      <th>currencies</th>\n",
       "      <th>cur_abbrevs</th>\n",
       "      <th>price_eur</th>\n",
       "      <th>day_of_quarter</th>\n",
       "      <th>quarter</th>\n",
       "      <th>first_of_month</th>\n",
       "    </tr>\n",
       "  </thead>\n",
       "  <tbody>\n",
       "    <tr>\n",
       "      <th>0</th>\n",
       "      <td>54868-5165</td>\n",
       "      <td>Chatterbridge</td>\n",
       "      <td>Spain</td>\n",
       "      <td>Barcelona</td>\n",
       "      <td>784.79</td>\n",
       "      <td>2016-01-02 00:01:05</td>\n",
       "      <td>2016-01-02</td>\n",
       "      <td>2016-01-02</td>\n",
       "      <td>2016.0</td>\n",
       "      <td>€</td>\n",
       "      <td>EUR</td>\n",
       "      <td>784.79</td>\n",
       "      <td>1.0</td>\n",
       "      <td>1.0</td>\n",
       "      <td>2016-01-01</td>\n",
       "    </tr>\n",
       "    <tr>\n",
       "      <th>1</th>\n",
       "      <td>60505-2867</td>\n",
       "      <td>Lajo</td>\n",
       "      <td>Greece</td>\n",
       "      <td>Thessaloniki</td>\n",
       "      <td>187.99</td>\n",
       "      <td>2016-01-02 00:05:26</td>\n",
       "      <td>2016-01-02</td>\n",
       "      <td>2016-01-02</td>\n",
       "      <td>2016.0</td>\n",
       "      <td>€</td>\n",
       "      <td>EUR</td>\n",
       "      <td>187.99</td>\n",
       "      <td>1.0</td>\n",
       "      <td>1.0</td>\n",
       "      <td>2016-01-01</td>\n",
       "    </tr>\n",
       "    <tr>\n",
       "      <th>2</th>\n",
       "      <td>24385-268</td>\n",
       "      <td>Flipstorm</td>\n",
       "      <td>Greece</td>\n",
       "      <td>Athens</td>\n",
       "      <td>221.73</td>\n",
       "      <td>2016-01-02 00:18:30</td>\n",
       "      <td>2016-01-02</td>\n",
       "      <td>2016-01-02</td>\n",
       "      <td>2016.0</td>\n",
       "      <td>€</td>\n",
       "      <td>EUR</td>\n",
       "      <td>221.73</td>\n",
       "      <td>1.0</td>\n",
       "      <td>1.0</td>\n",
       "      <td>2016-01-01</td>\n",
       "    </tr>\n",
       "    <tr>\n",
       "      <th>3</th>\n",
       "      <td>76117-001</td>\n",
       "      <td>Twitterbeat</td>\n",
       "      <td>France</td>\n",
       "      <td>Annecy</td>\n",
       "      <td>1075.82</td>\n",
       "      <td>2016-01-02 02:32:30</td>\n",
       "      <td>2016-01-02</td>\n",
       "      <td>2016-01-02</td>\n",
       "      <td>2016.0</td>\n",
       "      <td>€</td>\n",
       "      <td>EUR</td>\n",
       "      <td>1075.82</td>\n",
       "      <td>1.0</td>\n",
       "      <td>1.0</td>\n",
       "      <td>2016-01-01</td>\n",
       "    </tr>\n",
       "    <tr>\n",
       "      <th>4</th>\n",
       "      <td>44946-1046</td>\n",
       "      <td>Chatterbridge</td>\n",
       "      <td>Spain</td>\n",
       "      <td>Barcelona</td>\n",
       "      <td>412.55</td>\n",
       "      <td>2016-01-02 04:51:55</td>\n",
       "      <td>2016-01-02</td>\n",
       "      <td>2016-01-02</td>\n",
       "      <td>2016.0</td>\n",
       "      <td>€</td>\n",
       "      <td>EUR</td>\n",
       "      <td>412.55</td>\n",
       "      <td>1.0</td>\n",
       "      <td>1.0</td>\n",
       "      <td>2016-01-01</td>\n",
       "    </tr>\n",
       "  </tbody>\n",
       "</table>\n",
       "</div>"
      ],
      "text/plain": [
       "         part        company country          city    price  \\\n",
       "0  54868-5165  Chatterbridge   Spain     Barcelona   784.79   \n",
       "1  60505-2867           Lajo  Greece  Thessaloniki   187.99   \n",
       "2   24385-268      Flipstorm  Greece        Athens   221.73   \n",
       "3   76117-001    Twitterbeat  France        Annecy  1075.82   \n",
       "4  44946-1046  Chatterbridge   Spain     Barcelona   412.55   \n",
       "\n",
       "                 date  norm_date   just_date    year currencies cur_abbrevs  \\\n",
       "0 2016-01-02 00:01:05 2016-01-02  2016-01-02  2016.0          €         EUR   \n",
       "1 2016-01-02 00:05:26 2016-01-02  2016-01-02  2016.0          €         EUR   \n",
       "2 2016-01-02 00:18:30 2016-01-02  2016-01-02  2016.0          €         EUR   \n",
       "3 2016-01-02 02:32:30 2016-01-02  2016-01-02  2016.0          €         EUR   \n",
       "4 2016-01-02 04:51:55 2016-01-02  2016-01-02  2016.0          €         EUR   \n",
       "\n",
       "   price_eur  day_of_quarter  quarter first_of_month  \n",
       "0     784.79             1.0      1.0     2016-01-01  \n",
       "1     187.99             1.0      1.0     2016-01-01  \n",
       "2     221.73             1.0      1.0     2016-01-01  \n",
       "3    1075.82             1.0      1.0     2016-01-01  \n",
       "4     412.55             1.0      1.0     2016-01-01  "
      ]
     },
     "execution_count": 93,
     "metadata": {},
     "output_type": "execute_result"
    }
   ],
   "source": [
    "df.head()"
   ]
  },
  {
   "cell_type": "markdown",
   "metadata": {
    "colab_type": "text",
    "id": "0_GxMwevcuWd"
   },
   "source": [
    "## Stock Data"
   ]
  },
  {
   "cell_type": "markdown",
   "metadata": {
    "colab_type": "text",
    "id": "kd4TlDyGcuWe"
   },
   "source": [
    "Information about these companies is quite difficult to find. We tried to find many extermal sources of data and had many unsuccessful tries including\n",
    "+ Google Trends (many companies didn't have any trend data)\n",
    "+ Angel List (startup list website)\n",
    "+ Company name to stock-symbol (most aren't public)\n",
    "+ Twitter (most companies didn't have a public handle)\n",
    "\n",
    "In the end we decided to just settle for more general market data. This can be useful when trying to spot trends in customer purchasing. If the whole market is down, it is understandable if customers aren't buying and doesn't say anything bad about the product quality. For this large-scale trend data, historical data from a large index is best. Turns out, APIs for this kind of data are rarely found for free, and we didn't find one with market indexes, only individual stocks. We managed to find an HTML table on a website with monthly data for the S&P 500 index, however, so we went ahead and scraped it into a table."
   ]
  },
  {
   "cell_type": "code",
   "execution_count": 94,
   "metadata": {
    "colab": {},
    "colab_type": "code",
    "id": "TP8MFMsGcuWe"
   },
   "outputs": [],
   "source": [
    "import requests\n",
    "from bs4 import BeautifulSoup as bs"
   ]
  },
  {
   "cell_type": "code",
   "execution_count": 95,
   "metadata": {
    "colab": {},
    "colab_type": "code",
    "id": "yNMqH3DGcuWg"
   },
   "outputs": [],
   "source": [
    "soup = bs(requests.get('https://www.multpl.com/s-p-500-historical-prices/table/by-month').content)"
   ]
  },
  {
   "cell_type": "code",
   "execution_count": 96,
   "metadata": {
    "colab": {},
    "colab_type": "code",
    "id": "pTQaBc6jcuWi"
   },
   "outputs": [],
   "source": [
    "dates_html = soup.select('#datatable td.left')\n",
    "prices_html = soup.select('#datatable td.right')"
   ]
  },
  {
   "cell_type": "code",
   "execution_count": 255,
   "metadata": {
    "colab": {},
    "colab_type": "code",
    "id": "n_aNAEticuWk"
   },
   "outputs": [],
   "source": [
    "dates = [i.get_text() for i in dates_html]\n",
    "prices = [i.get_text().strip() for i in prices_html]\n",
    "prices_f = [float(i.replace(',', '')) for i in prices]"
   ]
  },
  {
   "cell_type": "code",
   "execution_count": 256,
   "metadata": {
    "colab": {},
    "colab_type": "code",
    "id": "K-41NLqvcuWm"
   },
   "outputs": [],
   "source": [
    "snp500 = pd.DataFrame()\n",
    "snp500['dates'] = dates\n",
    "snp500.dates = pd.to_datetime(snp500.dates)\n",
    "snp500['snp_price'] = prices_f"
   ]
  },
  {
   "cell_type": "markdown",
   "metadata": {
    "colab_type": "text",
    "id": "3Jh-k_YecuWp"
   },
   "source": [
    "---\n",
    "## Part 3: Creating a database\n",
    "Storing data in a relational database has the advantages that it is persistent, fast to query, and it will be easier access for other employees at Weyland-Yutani.\n",
    "\n",
    "In this part you should:\n",
    "- Create a database and table(s) for the data\n",
    "- Insert data into the tables\n",
    "\n",
    "You may use SQLite locally to do this. You should argue why you choose to store your data the way you do. "
   ]
  },
  {
   "cell_type": "markdown",
   "metadata": {
    "colab_type": "text",
    "id": "s1KomSTtcuWq"
   },
   "source": [
    "---\n",
    "### Solution"
   ]
  },
  {
   "cell_type": "code",
   "execution_count": 257,
   "metadata": {
    "colab": {},
    "colab_type": "code",
    "id": "hAyc1p9vcuWq"
   },
   "outputs": [],
   "source": [
    "!rm data.db"
   ]
  },
  {
   "cell_type": "code",
   "execution_count": 258,
   "metadata": {
    "colab": {},
    "colab_type": "code",
    "id": "JtR13hEfcuWs"
   },
   "outputs": [],
   "source": [
    "conn = sqlite3.connect('data.db')\n",
    "\n",
    "for_sql = df\n",
    "\n",
    "for_sql.to_sql(con=conn, name='transactions', index=False)\n",
    "snp500.to_sql(con=conn, name='stocks', index=False)"
   ]
  },
  {
   "cell_type": "code",
   "execution_count": 259,
   "metadata": {
    "colab": {
     "base_uri": "https://localhost:8080/",
     "height": 53
    },
    "colab_type": "code",
    "id": "Mp_Gan3WcuWt",
    "outputId": "d2ed9521-0d0a-4c28-c761-26b81b507050"
   },
   "outputs": [
    {
     "name": "stdout",
     "output_type": "stream",
     "text": [
      "['part', 'company', 'country', 'city', 'price', 'date', 'norm_date', 'just_date', 'year', 'currencies', 'cur_abbrevs', 'price_eur', 'day_of_quarter', 'quarter', 'first_of_month']\n"
     ]
    }
   ],
   "source": [
    "c = conn.cursor()\n",
    "c.execute(\"SELECT * FROM transactions\")\n",
    "names = list(map(lambda x: x[0], c.description))\n",
    "print(names)"
   ]
  },
  {
   "cell_type": "code",
   "execution_count": 260,
   "metadata": {
    "colab": {
     "base_uri": "https://localhost:8080/",
     "height": 33
    },
    "colab_type": "code",
    "id": "KpxrZDyScuWx",
    "outputId": "7038b869-9bd8-4222-febb-14a3979e2d0e"
   },
   "outputs": [
    {
     "data": {
      "text/plain": [
       "('2019-10-11 00:00:00', 2969.74)"
      ]
     },
     "execution_count": 260,
     "metadata": {},
     "output_type": "execute_result"
    }
   ],
   "source": [
    "c.execute(\"SELECT * FROM stocks\")\n",
    "c.fetchone()"
   ]
  },
  {
   "cell_type": "code",
   "execution_count": 261,
   "metadata": {
    "colab": {
     "base_uri": "https://localhost:8080/",
     "height": 33
    },
    "colab_type": "code",
    "id": "6gPuer8TcuW0",
    "outputId": "7d63b936-df60-472a-8202-3880fe47c092"
   },
   "outputs": [
    {
     "data": {
      "text/plain": [
       "('2016-01-01 00:00:00',)"
      ]
     },
     "execution_count": 261,
     "metadata": {},
     "output_type": "execute_result"
    }
   ],
   "source": [
    "c.execute(\"select first_of_month from transactions\")\n",
    "c.fetchone()"
   ]
  },
  {
   "cell_type": "code",
   "execution_count": 262,
   "metadata": {
    "colab": {
     "base_uri": "https://localhost:8080/",
     "height": 33
    },
    "colab_type": "code",
    "id": "oSHsfSyZcuW2",
    "outputId": "2803b069-cd89-4476-d12e-9623672f3b41"
   },
   "outputs": [
    {
     "data": {
      "text/plain": [
       "('2019-10-11 00:00:00',)"
      ]
     },
     "execution_count": 262,
     "metadata": {},
     "output_type": "execute_result"
    }
   ],
   "source": [
    "c.execute(\"select dates from stocks\")\n",
    "c.fetchone()"
   ]
  },
  {
   "cell_type": "code",
   "execution_count": 263,
   "metadata": {
    "colab": {},
    "colab_type": "code",
    "id": "n7-RxnVfcuW5"
   },
   "outputs": [],
   "source": [
    "c.execute(\"SELECT dates, snp_price FROM stocks JOIN transactions ON stocks.dates = transactions.first_of_month\")\n",
    "c.fetchall() ;"
   ]
  },
  {
   "cell_type": "markdown",
   "metadata": {
    "colab_type": "text",
    "id": "ZQuEHEljcuW8"
   },
   "source": [
    "---\n",
    "## Part 4: Analyzing the data\n",
    "You are now ready to analyze the data. Your goal is to gain some actionable business insights to present to your boss. \n",
    "\n",
    "In this part, you should ask some questions and try to answer them based on the data. You should write SQL queries to retrieve the data. For each question, you should state why it is relevant and what you expect to find.\n",
    "\n",
    "To get you started, you should prepare answers to the following questions. You should add more questions.\n",
    "#### Who are the most profitable clients?\n",
    "Knowing which clients that generate the most revenue for the company will assist your boss in distributing customer service ressources.\n",
    "\n",
    "#### Are there any clients for which profit is declining?\n",
    "Declining profit from a specific client may indicate that the client is disatisfied with the product. Gaining a new client is often much more work than retaining one. Early warnings about declining profit may help your boss fighting customer churn.\n",
    "\n",
    "\n",
    "Remember, you are taking this to your new boss, so think about how you present the data."
   ]
  },
  {
   "cell_type": "markdown",
   "metadata": {
    "colab_type": "text",
    "id": "8yDwM4c-dSol"
   },
   "source": [
    "other questions:\n",
    "\n",
    "#### 3- Taking the worst performing companies,which products were sold to those before but not anylonger in the last year?\n",
    "we might want to have a list of products that are not anylonger purchased by those companies.\n",
    "\n",
    "#### 4- are those products slowing down sales also in other companies? \n",
    "Is there an issue? \n",
    "If yes there might be an issue with the product:\n",
    "- not performing up to standards\n",
    "- new competitor on the line\n",
    "- other\n",
    "Action to identify the issue:\n",
    "Measure of customer satisfaction via online questions.\n",
    "\n",
    "#### 5 - taking the best performing companies, which products were best sellers for past year? \n",
    "\n",
    "#### 6- In which countries we go big on sales? in which not?\n",
    " (moved query from the beginning)\n",
    "\n",
    "#### 7- List products from most sold to less sold per country\n",
    "\n",
    "#### 8- List profit per product for each country\n"
   ]
  },
  {
   "cell_type": "markdown",
   "metadata": {
    "colab_type": "text",
    "id": "Gwb5BJw9cuW8"
   },
   "source": [
    "---\n",
    "### Solution"
   ]
  },
  {
   "cell_type": "markdown",
   "metadata": {
    "colab_type": "text",
    "id": "uBiTahqwcuW9"
   },
   "source": [
    "### 1- Get most profitable companies"
   ]
  },
  {
   "cell_type": "markdown",
   "metadata": {
    "colab_type": "text",
    "id": "zZKq9OUZLKWg"
   },
   "source": [
    "Lets plot to have an overview:"
   ]
  },
  {
   "cell_type": "code",
   "execution_count": 107,
   "metadata": {
    "colab": {
     "base_uri": "https://localhost:8080/",
     "height": 457
    },
    "colab_type": "code",
    "id": "6D9i6FyWKGfb",
    "outputId": "3e8c33f0-95e1-4cfa-fc02-186ffd4e0829"
   },
   "outputs": [
    {
     "data": {
      "text/plain": [
       "<matplotlib.axes._subplots.AxesSubplot at 0x7f32d166ff98>"
      ]
     },
     "execution_count": 107,
     "metadata": {},
     "output_type": "execute_result"
    },
    {
     "data": {
      "image/png": "[encoded data removed]",
      "text/plain": [
       "<Figure size 576x396 with 1 Axes>"
      ]
     },
     "metadata": {
      "needs_background": "light"
     },
     "output_type": "display_data"
    }
   ],
   "source": [
    "df.groupby('company')['price_eur'].sum().plot(kind='bar', title='transactions value by company')"
   ]
  },
  {
   "cell_type": "code",
   "execution_count": 108,
   "metadata": {
    "colab": {
     "base_uri": "https://localhost:8080/",
     "height": 100
    },
    "colab_type": "code",
    "id": "zG1XyHnZcuW-",
    "outputId": "5b947347-d5e8-4d8e-b3f2-2c08e38b7e5b"
   },
   "outputs": [
    {
     "data": {
      "text/plain": [
       "[('Thoughtmix', 1625383.16),\n",
       " ('Twitterbeat', 1325516.5),\n",
       " ('Zooxo', 959861.81),\n",
       " ('Shufflebeat', 921867.88),\n",
       " ('Chatterbridge', 919349.66)]"
      ]
     },
     "execution_count": 108,
     "metadata": {},
     "output_type": "execute_result"
    }
   ],
   "source": [
    "c.execute(\"SELECT company, round(SUM(price_eur),2) FROM transactions GROUP BY company ORDER BY SUM(price_eur) DESC LIMIT 5\")\n",
    "sales_by_company = c.fetchall()\n",
    "sales_by_company"
   ]
  },
  {
   "cell_type": "code",
   "execution_count": 109,
   "metadata": {
    "colab": {},
    "colab_type": "code",
    "id": "YLc6toXZGbNK"
   },
   "outputs": [],
   "source": [
    "listed_company = list()\n",
    "totsales = list()\n",
    "for i in range(len(sales_by_company)):\n",
    "  (company, sales) = sales_by_company[i]\n",
    "  sales = round(sales,2)\n",
    "  listed_company.append(company)\n",
    "  totsales.append(sales)\n",
    "best_company = listed_company\n",
    "best_sales = totsales"
   ]
  },
  {
   "cell_type": "code",
   "execution_count": 110,
   "metadata": {
    "colab": {
     "base_uri": "https://localhost:8080/",
     "height": 354
    },
    "colab_type": "code",
    "id": "FFyR5WLQVbHq",
    "outputId": "62903f13-9422-4bb7-9f53-b3c6d3906a05"
   },
   "outputs": [
    {
     "data": {
      "image/png": "[encoded data removed]",
      "text/plain": [
       "<Figure size 576x396 with 1 Axes>"
      ]
     },
     "metadata": {
      "needs_background": "light"
     },
     "output_type": "display_data"
    }
   ],
   "source": [
    "import numpy as np\n",
    "import matplotlib.pyplot as plt\n",
    "\n",
    "height = (best_sales) #values on y axis\n",
    "bars = (best_company) # x axis\n",
    "y_pos = np.arange(len(bars))\n",
    "plt.bar(y_pos, height)\n",
    "plt.xticks(y_pos, bars)\n",
    "plt.show()\n"
   ]
  },
  {
   "cell_type": "code",
   "execution_count": 111,
   "metadata": {
    "colab": {
     "base_uri": "https://localhost:8080/",
     "height": 339
    },
    "colab_type": "code",
    "id": "plXaHRCpP5yD",
    "outputId": "2bbdf5a2-c86a-47a4-e458-5d01dce8f803"
   },
   "outputs": [
    {
     "data": {
      "text/plain": [
       "<matplotlib.legend.Legend at 0x7f32d2bb6400>"
      ]
     },
     "execution_count": 111,
     "metadata": {},
     "output_type": "execute_result"
    },
    {
     "data": {
      "image/png": "[encoded data removed]",
      "text/plain": [
       "<Figure size 360x360 with 1 Axes>"
      ]
     },
     "metadata": {},
     "output_type": "display_data"
    }
   ],
   "source": [
    "import matplotlib        \n",
    "matplotlib.use('Agg')             \n",
    "import matplotlib.pyplot as plt   \n",
    "import time \n",
    "\n",
    " \n",
    "PORcode = [best_company]\n",
    "fig1, ax1 = plt.subplots(figsize=(5,5)) #set the size of the plot\n",
    "ax1.pie(best_sales,  autopct='%1.1f%%', shadow=False, startangle=90) #tell what to plot, how to show percent, if we want a shadow, and where to start the chart\n",
    "ax1.axis('equal')  # Equal aspect ratio ensures that pie is drawn as a circle.\n",
    "plt.title('Top 5 Clients')\n",
    "plt.legend(best_company,loc='best', bbox_to_anchor=(1.0, 0.5),\n",
    "         ncol=2, fancybox=True, shadow=True) #set up the legend using labels, set the location, bbox to anchor can be used to move the box, set columns, and then som formatting\n"
   ]
  },
  {
   "cell_type": "markdown",
   "metadata": {
    "colab_type": "text",
    "id": "PmZ7gCitcuXB"
   },
   "source": [
    "## 2- Get companies with below average sales in latest quarter"
   ]
  },
  {
   "cell_type": "code",
   "execution_count": 191,
   "metadata": {
    "colab": {},
    "colab_type": "code",
    "id": "btyyIxS-cuXB"
   },
   "outputs": [],
   "source": [
    "c.execute(\"SELECT company, quarter, year, SUM(price_eur) FROM transactions  \\\n",
    "           GROUP BY company, quarter, year  \\\n",
    "           ORDER BY company,year,quarter\")\n",
    "quarter_values = c.fetchall()"
   ]
  },
  {
   "cell_type": "code",
   "execution_count": 192,
   "metadata": {
    "colab": {},
    "colab_type": "code",
    "id": "xaBZTKm1cuXD"
   },
   "outputs": [],
   "source": [
    "def plot_revenue_trend(companies, w, h):\n",
    "    fig, axs = plt.subplots(h, w, figsize=(14,13))\n",
    "    axs = axs.flat[:len(companies)]\n",
    "    plt.axis('off')\n",
    "    for ax,company in zip(axs,companies):\n",
    "        items = [i for i in quarter_values if i[0]==company]\n",
    "        items = [i for i in items if i[1] and i[2] != None]\n",
    "        times = [i[2]+0.25*i[1] for i in items ]\n",
    "        revenues = [i[3] for i in items]\n",
    "        ax.axis('off')\n",
    "        ax.plot(times, revenues)\n",
    "        ax.set_title(f'{company}')"
   ]
  },
  {
   "cell_type": "markdown",
   "metadata": {
    "colab_type": "text",
    "id": "G6NRaHLicuXG"
   },
   "source": [
    "Plotting the buying trends over quarters shows that while most companies keep buying more product, a couple companies look to be in trouble, and a couple others may be moving to competitors. Flipstorm and Voomm have consistently downward slopes, while Innojam Kanoodle Zooxo and Brainsphere were growing users for awhile but seem to have cut their product usage recently."
   ]
  },
  {
   "cell_type": "code",
   "execution_count": 114,
   "metadata": {
    "colab": {
     "base_uri": "https://localhost:8080/",
     "height": 794
    },
    "colab_type": "code",
    "id": "wyQJj6MscuXG",
    "outputId": "8d028820-75a4-45ab-d414-2e3c63b102ef"
   },
   "outputs": [
    {
     "data": {
      "image/png": "[encoded data removed]",
      "text/plain": [
       "<Figure size 1008x936 with 30 Axes>"
      ]
     },
     "metadata": {
      "needs_background": "light"
     },
     "output_type": "display_data"
    }
   ],
   "source": [
    "plot_revenue_trend(df['company'].unique(), 6, 5)"
   ]
  },
  {
   "cell_type": "markdown",
   "metadata": {
    "colab_type": "text",
    "id": "85KMaoJ5cuXI"
   },
   "source": [
    "Looking at the plot above can be useful, but it would be nice to have a numeric method to get potentially troublesome companies. To do this, we look at the most recent quarter of revenue from a company, and raise a flag if this is less than 80% of the previous quarter's sales."
   ]
  },
  {
   "cell_type": "code",
   "execution_count": 264,
   "metadata": {
    "colab": {},
    "colab_type": "code",
    "id": "BpnZh7BGcuXI"
   },
   "outputs": [],
   "source": [
    "def get_revs(company):\n",
    "    items = [i for i in quarter_values if i[0]==company]\n",
    "    return [i[3] for i in items if i[3] is not None]"
   ]
  },
  {
   "cell_type": "code",
   "execution_count": 265,
   "metadata": {
    "colab": {
     "base_uri": "https://localhost:8080/",
     "height": 33
    },
    "colab_type": "code",
    "id": "rjwwa1dBcuXJ",
    "outputId": "ca21486c-2584-4d2b-f126-a5bc3b492cf9"
   },
   "outputs": [
    {
     "data": {
      "text/plain": [
       "['Flipstorm', 'Voomm', 'Innojam', 'Kanoodle']"
      ]
     },
     "execution_count": 265,
     "metadata": {},
     "output_type": "execute_result"
    }
   ],
   "source": [
    "drop_threshold = 0.8\n",
    "problem_companies = [c for c in df['company'].unique() if get_revs(c)[-1] < drop_threshold * sum(get_revs(c))/len(get_revs(c))]\n",
    "problem_companies"
   ]
  },
  {
   "cell_type": "markdown",
   "metadata": {},
   "source": [
    "It is quite possible that if the market isn't having the best year, some of these companies just haven't bought parts because they cannot afford parts. To find truly problematic companies, we should look for companies whos growth/loss is worse than the market as a whole. To do this, we can use the external data we collected."
   ]
  },
  {
   "cell_type": "code",
   "execution_count": 270,
   "metadata": {},
   "outputs": [],
   "source": [
    "c.execute(\"SELECT company, quarter, year, first_of_month, SUM(price_eur), snp_price FROM transactions \\\n",
    "           JOIN stocks ON stocks.dates=transactions.first_of_month \\\n",
    "           GROUP BY company, quarter, year  \\\n",
    "           ORDER BY company,year,quarter\")\n",
    "quarter_w_snp = c.fetchall()"
   ]
  },
  {
   "cell_type": "code",
   "execution_count": 271,
   "metadata": {},
   "outputs": [],
   "source": [
    "def get_stocks(company):\n",
    "    items = [i for i in quarter_w_snp if i[0]==company]\n",
    "    return [i[-1] for i in items if i[-1] is not None]"
   ]
  },
  {
   "cell_type": "code",
   "execution_count": 272,
   "metadata": {},
   "outputs": [],
   "source": [
    "from scipy.stats import zscore"
   ]
  },
  {
   "cell_type": "code",
   "execution_count": 291,
   "metadata": {},
   "outputs": [
    {
     "data": {
      "text/plain": [
       "['Lajo',\n",
       " 'Flipstorm',\n",
       " 'Voomm',\n",
       " 'Zooxo',\n",
       " 'Brainsphere',\n",
       " 'Ntags',\n",
       " 'Innojam',\n",
       " 'Kanoodle',\n",
       " 'Riffpath',\n",
       " 'Eimbee',\n",
       " 'Yozio',\n",
       " 'Rhycero',\n",
       " 'Gevee',\n",
       " 'Tagtune']"
      ]
     },
     "execution_count": 291,
     "metadata": {},
     "output_type": "execute_result"
    }
   ],
   "source": [
    "factor = 0.1\n",
    "problem_companies2 = [c for c in df['company'].unique() if zscore(get_revs(c))[-1] < factor * zscore(get_stocks(c))[-1]]\n",
    "problem_companies2"
   ]
  },
  {
   "cell_type": "markdown",
   "metadata": {},
   "source": [
    "A lot of our customers had a worse quarter than the stock market last quarter, so perhaps this isn't the best measure to go on, or our stock market data is optimistic."
   ]
  },
  {
   "cell_type": "markdown",
   "metadata": {
    "colab_type": "text",
    "id": "U2pzAemddrJy"
   },
   "source": [
    "### 3- Taking the worst performing companies,which 50 parts were sold to those before, but not any longer in the last year?\n",
    "\n"
   ]
  },
  {
   "cell_type": "code",
   "execution_count": 117,
   "metadata": {
    "colab": {
     "base_uri": "https://localhost:8080/",
     "height": 853
    },
    "colab_type": "code",
    "collapsed": true,
    "id": "1rIk2L3yh2aX",
    "jupyter": {
     "outputs_hidden": true
    },
    "outputId": "0fc34a7f-f740-4d0d-9971-4a57e263a6f8"
   },
   "outputs": [
    {
     "name": "stdout",
     "output_type": "stream",
     "text": [
      "1 ('37205-951', 6)\n",
      "2 ('58118-5060', 6)\n",
      "3 ('60505-2867', 6)\n",
      "4 ('0603-6134', 5)\n",
      "5 ('17156-617', 5)\n",
      "6 ('21695-267', 5)\n",
      "7 ('49349-106', 5)\n",
      "8 ('51138-049', 5)\n",
      "9 ('51346-145', 5)\n",
      "10 ('55289-164', 5)\n",
      "11 ('67046-030', 5)\n",
      "12 ('0615-7679', 4)\n",
      "13 ('16729-167', 4)\n",
      "14 ('49738-105', 4)\n",
      "15 ('51060-032', 4)\n",
      "16 ('54868-5165', 4)\n",
      "17 ('55154-5057', 4)\n",
      "18 ('55566-2100', 4)\n",
      "19 ('55700-014', 4)\n",
      "20 ('62011-0219', 4)\n",
      "21 ('62756-707', 4)\n",
      "22 ('65044-3014', 4)\n",
      "23 ('0268-1401', 3)\n",
      "24 ('0268-6107', 3)\n",
      "25 ('0699-7041', 3)\n",
      "26 ('13537-468', 3)\n",
      "27 ('21695-931', 3)\n",
      "28 ('35356-325', 3)\n",
      "29 ('49348-574', 3)\n",
      "30 ('49349-842', 3)\n",
      "31 ('50458-560', 3)\n",
      "32 ('54123-957', 3)\n",
      "33 ('54868-0823', 3)\n",
      "34 ('54973-9150', 3)\n",
      "35 ('55856-0003', 3)\n",
      "36 ('58668-4281', 3)\n",
      "37 ('68084-172', 3)\n",
      "38 ('68084-595', 3)\n",
      "39 ('68180-121', 3)\n",
      "40 ('68233-011', 3)\n",
      "41 ('76314-002', 3)\n",
      "42 ('98132-889', 3)\n",
      "43 ('0268-1128', 2)\n",
      "44 ('10267-2529', 2)\n",
      "45 ('16477-306', 2)\n",
      "46 ('16714-295', 2)\n",
      "47 ('24385-268', 2)\n",
      "48 ('36987-1697', 2)\n",
      "49 ('37205-992', 2)\n",
      "50 ('41163-428', 2)\n"
     ]
    }
   ],
   "source": [
    "c.execute(\"SELECT part,count(part) FROM transactions  \\\n",
    "           WHERE company IN ('Flipstorm', 'Voomm', 'Innojam', 'Kanoodle') AND\\\n",
    "           norm_date BETWEEN '2017-01-01' AND '2018-01-01' AND\\\n",
    "           norm_date NOT BETWEEN '2018-01-01' AND '2019-05-01'\\\n",
    "           GROUP BY part\\\n",
    "           ORDER BY COUNT(part) DESC LIMIT 50\")\n",
    "unsold_parts = c.fetchall()\n",
    "for i in range (len(unsold_parts)):\n",
    "  print (i+1, unsold_parts[i])"
   ]
  },
  {
   "cell_type": "code",
   "execution_count": 118,
   "metadata": {
    "colab": {
     "base_uri": "https://localhost:8080/",
     "height": 401
    },
    "colab_type": "code",
    "id": "uUFxJ-Vr9ajs",
    "outputId": "69552b83-4eb6-470d-de46-b38c3f7e107b"
   },
   "outputs": [
    {
     "name": "stdout",
     "output_type": "stream",
     "text": [
      "there are 22 part that we should investigate further\n"
     ]
    },
    {
     "data": {
      "text/plain": [
       "['37205-951',\n",
       " '58118-5060',\n",
       " '60505-2867',\n",
       " '0603-6134',\n",
       " '17156-617',\n",
       " '21695-267',\n",
       " '49349-106',\n",
       " '51138-049',\n",
       " '51346-145',\n",
       " '55289-164',\n",
       " '67046-030',\n",
       " '0615-7679',\n",
       " '16729-167',\n",
       " '49738-105',\n",
       " '51060-032',\n",
       " '54868-5165',\n",
       " '55154-5057',\n",
       " '55566-2100',\n",
       " '55700-014',\n",
       " '62011-0219',\n",
       " '62756-707',\n",
       " '65044-3014']"
      ]
     },
     "execution_count": 118,
     "metadata": {},
     "output_type": "execute_result"
    }
   ],
   "source": [
    "suspicious_parts = list()\n",
    "for i in range(len(unsold_parts)):\n",
    "  (part,count) = unsold_parts[i]\n",
    "  if count > 3: \n",
    "    suspicious_parts.append(part)\n",
    "print ('there are', len(suspicious_parts),'part that we should investigate further')\n",
    "suspicious_parts"
   ]
  },
  {
   "cell_type": "markdown",
   "metadata": {
    "colab_type": "text",
    "id": "YVgzM1KedvMI"
   },
   "source": [
    "### 4- Are those products slowing down sales also in the best companies?"
   ]
  },
  {
   "cell_type": "code",
   "execution_count": 119,
   "metadata": {
    "colab": {
     "base_uri": "https://localhost:8080/",
     "height": 385
    },
    "colab_type": "code",
    "id": "NQcI7UAOD8zn",
    "outputId": "d2c3ee53-e27b-4ce9-c3fd-34c5bf0b5b06"
   },
   "outputs": [
    {
     "data": {
      "text/plain": [
       "[('51346-145', 55),\n",
       " ('58118-5060', 54),\n",
       " ('49349-106', 49),\n",
       " ('17156-617', 48),\n",
       " ('62011-0219', 48),\n",
       " ('51138-049', 44),\n",
       " ('67046-030', 42),\n",
       " ('16729-167', 41),\n",
       " ('54868-5165', 41),\n",
       " ('0615-7679', 38),\n",
       " ('65044-3014', 38),\n",
       " ('0603-6134', 37),\n",
       " ('37205-951', 37),\n",
       " ('49738-105', 36),\n",
       " ('55154-5057', 36),\n",
       " ('55700-014', 34),\n",
       " ('62756-707', 34),\n",
       " ('21695-267', 31),\n",
       " ('55566-2100', 31),\n",
       " ('51060-032', 24),\n",
       " ('55289-164', 20),\n",
       " ('60505-2867', 19)]"
      ]
     },
     "execution_count": 119,
     "metadata": {},
     "output_type": "execute_result"
    }
   ],
   "source": [
    "c.execute(\"SELECT part,count(part)FROM transactions  \\\n",
    "           WHERE part IN ('0603-6134', '0615-7679', '16729-167', '17156-617', '21695-267', '37205-951', '49349-106', '49738-105', '51060-032', '51138-049', '51346-145', '54868-5165', '55154-5057', '55289-164', '55566-2100', '55700-014', '58118-5060', '60505-2867', '62011-0219', '62756-707', '65044-3014', '67046-030')  AND\\\n",
    "           company IN ('Thoughtmix', 'Twitterbeat', 'Zooxo', 'Shufflebeat', 'Chatterbridge') AND\\\n",
    "           norm_date BETWEEN '2017-01-01' AND '2018-01-01' AND\\\n",
    "           norm_date NOT BETWEEN '2018-01-01' AND '2019-05-01'\\\n",
    "           GROUP BY part\\\n",
    "           ORDER BY COUNT(part) DESC LIMIT 22 \")\n",
    "unsoldparts = c.fetchall()\n",
    "unsoldparts"
   ]
  },
  {
   "cell_type": "markdown",
   "metadata": {
    "colab_type": "text",
    "id": "FOVaVrGQUzEC"
   },
   "source": [
    "We can see that also in the best companies we have lost lots of orders for those parts. It might be useful to handle them a survey to understand why."
   ]
  },
  {
   "cell_type": "markdown",
   "metadata": {
    "colab_type": "text",
    "id": "KLAD_sYGdyGC"
   },
   "source": [
    "### 5- taking the best performing companies, which products were best sellers for past year? "
   ]
  },
  {
   "cell_type": "code",
   "execution_count": 120,
   "metadata": {
    "colab": {
     "base_uri": "https://localhost:8080/",
     "height": 184
    },
    "colab_type": "code",
    "id": "jtKW4H9JncL_",
    "outputId": "4ca47fc2-ada6-41bb-ee9f-78b984dc3cc7"
   },
   "outputs": [
    {
     "data": {
      "text/plain": [
       "[('37205-992', 57),\n",
       " ('52343-025', 53),\n",
       " ('54868-0823', 53),\n",
       " ('16729-167', 51),\n",
       " ('17156-617', 51),\n",
       " ('49349-106', 50),\n",
       " ('52125-136', 50),\n",
       " ('55700-014', 50),\n",
       " ('49520-501', 49),\n",
       " ('0268-6107', 48)]"
      ]
     },
     "execution_count": 120,
     "metadata": {},
     "output_type": "execute_result"
    }
   ],
   "source": [
    "c.execute(\"SELECT part,count(part) FROM transactions  \\\n",
    "           WHERE company IN ('Thoughtmix', 'Twitterbeat', 'Zooxo', 'Shufflebeat', 'Chatterbridge') AND\\\n",
    "           norm_date BETWEEN '2018-01-01' AND '2019-05-01'\\\n",
    "           GROUP BY part\\\n",
    "           ORDER BY count(part) DESC LIMIT 10 \")\n",
    "best_parts = c.fetchall()\n",
    "best_parts"
   ]
  },
  {
   "cell_type": "markdown",
   "metadata": {
    "colab_type": "text",
    "id": "97q9LxxKtIlS"
   },
   "source": [
    "It would be a good idea to invest more on this products that seem successfull."
   ]
  },
  {
   "cell_type": "markdown",
   "metadata": {
    "colab_type": "text",
    "id": "IZgE1KIKqfBY"
   },
   "source": [
    "### 6 - Get most profitable countries"
   ]
  },
  {
   "cell_type": "code",
   "execution_count": 121,
   "metadata": {
    "colab": {
     "base_uri": "https://localhost:8080/",
     "height": 468
    },
    "colab_type": "code",
    "id": "ixkmvlcWsMDu",
    "outputId": "60f19f39-b2eb-4418-da0e-bd3e30fd4505"
   },
   "outputs": [
    {
     "data": {
      "text/plain": [
       "<matplotlib.axes._subplots.AxesSubplot at 0x7f32d2b5dfd0>"
      ]
     },
     "execution_count": 121,
     "metadata": {},
     "output_type": "execute_result"
    },
    {
     "data": {
      "image/png": "[encoded data removed]",
      "text/plain": [
       "<Figure size 576x396 with 1 Axes>"
      ]
     },
     "metadata": {
      "needs_background": "light"
     },
     "output_type": "display_data"
    }
   ],
   "source": [
    "country_data = df.groupby('country')['price_eur'].sum()\n",
    "country_data.plot(kind='bar', title=\"transactions total in euro by country\")"
   ]
  },
  {
   "cell_type": "code",
   "execution_count": 150,
   "metadata": {
    "colab": {
     "base_uri": "https://localhost:8080/",
     "height": 201
    },
    "colab_type": "code",
    "id": "VVArAeBnvXn7",
    "outputId": "1ad20b70-17b3-4487-8770-098a77679a18"
   },
   "outputs": [
    {
     "data": {
      "text/plain": [
       "[('Portugal', 4266952.14),\n",
       " ('France', 2012141.96),\n",
       " (None, 1271983.32),\n",
       " ('Greece', 915163.88),\n",
       " ('United Kingdom', 867724.03),\n",
       " ('Spain', 823263.83),\n",
       " ('United States', 727232.59),\n",
       " ('Germany', 643126.49),\n",
       " ('Netherlands', 241739.01),\n",
       " ('Japan', 91088.42),\n",
       " ('Switzerland', 6167.95)]"
      ]
     },
     "execution_count": 150,
     "metadata": {},
     "output_type": "execute_result"
    }
   ],
   "source": [
    "c.execute(\"SELECT country, round (SUM(price_eur),2) \\\n",
    "           FROM transactions \\\n",
    "           GROUP BY country \\\n",
    "           ORDER BY SUM(price_eur) DESC\")\n",
    "sales_by_country = c.fetchall()\n",
    "sales_by_country "
   ]
  },
  {
   "cell_type": "code",
   "execution_count": 152,
   "metadata": {
    "colab": {},
    "colab_type": "code",
    "id": "3sqLxkeJvF_O"
   },
   "outputs": [],
   "source": [
    "listed_country = list()\n",
    "totsales_percountry = list()\n",
    "for i in range(len(sales_by_country)):\n",
    "  (company, sales) = sales_by_country[i]\n",
    "  sales = round(sales,2)\n",
    "  listed_country.append(company)\n",
    "  totsales_percountry.append(sales)\n",
    "best_country = listed_country[0:5]\n",
    "best_sales_percountry = totsales_percountry[0:5]"
   ]
  },
  {
   "cell_type": "code",
   "execution_count": 153,
   "metadata": {
    "colab": {
     "base_uri": "https://localhost:8080/",
     "height": 354
    },
    "colab_type": "code",
    "id": "YGTqBqIhvn80",
    "outputId": "141aafb1-725e-4574-de9d-e0bc8e8bc547"
   },
   "outputs": [
    {
     "name": "stderr",
     "output_type": "stream",
     "text": [
      "/home/zach/anaconda3/lib/python3.7/site-packages/matplotlib/figure.py:445: UserWarning: Matplotlib is currently using agg, which is a non-GUI backend, so cannot show the figure.\n",
      "  % get_backend())\n"
     ]
    },
    {
     "data": {
      "image/png": "[encoded data removed]",
      "text/plain": [
       "<Figure size 576x396 with 1 Axes>"
      ]
     },
     "metadata": {
      "needs_background": "light"
     },
     "output_type": "display_data"
    }
   ],
   "source": [
    "import numpy as np\n",
    "import matplotlib.pyplot as plt\n",
    "\n",
    "height = (best_sales_percountry) #values on y axis\n",
    "bars = (best_country) # x axis\n",
    "y_pos = np.arange(len(bars))\n",
    "plt.bar(y_pos, height)\n",
    "plt.xticks(y_pos, bars)\n",
    "plt.show()"
   ]
  },
  {
   "cell_type": "markdown",
   "metadata": {
    "colab_type": "text",
    "id": "Vv3T1RAVw31A"
   },
   "source": [
    "We realized only now that we have an issue with uncathegorized data by country. \n",
    "The issue shall be tackled by adding the missing information from the city information (currency and company are not giving a unnique reference)"
   ]
  },
  {
   "cell_type": "markdown",
   "metadata": {
    "colab_type": "text",
    "id": "HEYqgQMOy5uF"
   },
   "source": [
    "### 7- List most sold product per country"
   ]
  },
  {
   "cell_type": "code",
   "execution_count": 125,
   "metadata": {
    "colab": {
     "base_uri": "https://localhost:8080/",
     "height": 201
    },
    "colab_type": "code",
    "id": "GuEKwvlUzB5K",
    "outputId": "8154ee7a-8742-40dc-8f79-d7fdbc30be6e"
   },
   "outputs": [
    {
     "data": {
      "text/plain": [
       "[('Portugal', '36987-1697', 7384, 4266952.14),\n",
       " ('France', '76117-001', 3462, 2012141.96),\n",
       " (None, '52380-1102', 2173, 1271983.32),\n",
       " ('Greece', '60505-2867', 1627, 915163.88),\n",
       " ('United Kingdom', '54092-515', 1511, 867724.03),\n",
       " ('Spain', '54868-5165', 1425, 823263.83),\n",
       " ('United States', '62670-4404', 1255, 727232.59),\n",
       " ('Germany', '43419-018', 1124, 643126.49),\n",
       " ('Netherlands', '76454-100', 427, 241739.01),\n",
       " ('Japan', '24286-1562', 159, 91088.42),\n",
       " ('Switzerland', '67046-030', 11, 6167.95)]"
      ]
     },
     "execution_count": 125,
     "metadata": {},
     "output_type": "execute_result"
    }
   ],
   "source": [
    "c.execute(\"SELECT country,part,COUNT(part), round(SUM(price_eur),2) \\\n",
    "           FROM transactions \\\n",
    "           GROUP BY country  \\\n",
    "           ORDER BY COUNT(part) DESC \")\n",
    "best_parts = c.fetchall()\n",
    "best_parts"
   ]
  },
  {
   "cell_type": "markdown",
   "metadata": {
    "colab_type": "text",
    "id": "rhABe8SyzE9b"
   },
   "source": [
    "### 8- List profit per product per country\n"
   ]
  },
  {
   "cell_type": "code",
   "execution_count": 126,
   "metadata": {
    "colab": {
     "base_uri": "https://localhost:8080/",
     "height": 201
    },
    "colab_type": "code",
    "id": "AHstKSXkzGlv",
    "outputId": "d06cadd8-a596-421c-d5f7-6ebc993b30f1"
   },
   "outputs": [
    {
     "data": {
      "text/plain": [
       "[('Portugal', '36987-1697', 7384, 4266952.14),\n",
       " ('France', '76117-001', 3462, 2012141.96),\n",
       " (None, '52380-1102', 2173, 1271983.32),\n",
       " ('Greece', '60505-2867', 1627, 915163.88),\n",
       " ('United Kingdom', '54092-515', 1511, 867724.03),\n",
       " ('Spain', '54868-5165', 1425, 823263.83),\n",
       " ('United States', '62670-4404', 1255, 727232.59),\n",
       " ('Germany', '43419-018', 1124, 643126.49),\n",
       " ('Netherlands', '76454-100', 427, 241739.01),\n",
       " ('Japan', '24286-1562', 159, 91088.42),\n",
       " ('Switzerland', '67046-030', 11, 6167.95)]"
      ]
     },
     "execution_count": 126,
     "metadata": {},
     "output_type": "execute_result"
    }
   ],
   "source": [
    "c.execute(\"SELECT country,part,COUNT(part), round(SUM(price_eur),2) \\\n",
    "           FROM transactions \\\n",
    "           GROUP BY country  \\\n",
    "           ORDER BY round(SUM(price_eur)) DESC \")\n",
    "best_parts = c.fetchall()\n",
    "best_parts"
   ]
  },
  {
   "cell_type": "code",
   "execution_count": 149,
   "metadata": {
    "colab": {
     "base_uri": "https://localhost:8080/",
     "height": 1000
    },
    "colab_type": "code",
    "id": "YqmAnw6AzI0e",
    "outputId": "d493cc12-f8b5-4224-9ed9-6532f0d0f8d5"
   },
   "outputs": [
    {
     "data": {
      "text/plain": [
       "[('Greece', '17156-617', 300, 299257.49),\n",
       " ('Greece', '51346-145', 289, 280552.62),\n",
       " ('France', '51138-049', 280, 272005.83),\n",
       " ('France', '68462-565', 277, 250041.46),\n",
       " ('Greece', '62011-0219', 291, 240526.68),\n",
       " ('France', '49349-106', 268, 230330.41),\n",
       " ('Greece', '51523-002', 245, 227080.75),\n",
       " ('Greece', '68752-024', 268, 226357.74),\n",
       " ('Portugal', '49520-501', 265, 225163.66),\n",
       " ('Portugal', '36987-1697', 236, 222589.41)]"
      ]
     },
     "execution_count": 149,
     "metadata": {},
     "output_type": "execute_result"
    }
   ],
   "source": [
    "c.execute(\"SELECT country,part,COUNT(part), round(SUM(price_eur),2) \\\n",
    "           FROM transactions \\\n",
    "           GROUP BY part  \\\n",
    "           ORDER BY round(SUM(price_eur)) DESC \")\n",
    "best_parts = c.fetchall()\n",
    "best_parts[:10]"
   ]
  },
  {
   "cell_type": "markdown",
   "metadata": {
    "colab_type": "text",
    "id": "dkA5cO8PcuXP"
   },
   "source": [
    "---\n",
    "## Part 5: Performance\n",
    "Your boss is very impressed with what you have achieved in less than two weeks, and he would like to take your idea of storing the customer and sales data in a relational database to production. However, John is concerned that the solution will not scale. His experience is telling him that you will see many occurrences of the following queries.\n",
    "\n",
    "- Show all sales to company X between time $t_1$ and time $t_2$\n",
    "- Show the latest X sales in the database\n",
    "- Show total sales per company per day\n",
    "\n",
    "Show that Johns concern is not justified."
   ]
  },
  {
   "cell_type": "markdown",
   "metadata": {
    "colab_type": "text",
    "id": "5U4HlFTTcuXQ"
   },
   "source": [
    "---\n",
    "### Solution"
   ]
  },
  {
   "cell_type": "markdown",
   "metadata": {},
   "source": [
    "In order to optimize for the types of queries John believes will be frequent, we can index the database by date and company. This requires more space, but creates an enormous speedup. If the database were to grow massively in number of transactions, or needed to be queried very often, it would be up to the task. The first three cells below run performance checks without the index. The last three are duplicates once the index has been added in order to show the speedup."
   ]
  },
  {
   "cell_type": "code",
   "execution_count": 142,
   "metadata": {
    "colab": {
     "base_uri": "https://localhost:8080/",
     "height": 251
    },
    "colab_type": "code",
    "id": "CAyGFqnbcuXQ",
    "outputId": "99ee9b31-5714-4b82-f55c-46f7d32ca0e6"
   },
   "outputs": [
    {
     "name": "stdout",
     "output_type": "stream",
     "text": [
      "Last 10 orders from company Flipstorm\n",
      "1 ('Flipstorm', '24385-268', 221.73, '2016-01-02')\n",
      "2 ('Flipstorm', '49035-530', 841.97, '2016-01-02')\n",
      "3 ('Flipstorm', '44946-1046', 406.4, '2016-01-02')\n",
      "4 ('Flipstorm', '51346-145', 978.51, '2016-01-02')\n",
      "5 ('Flipstorm', '51138-049', 504.69, '2016-01-02')\n",
      "6 ('Flipstorm', '51523-002', 1041.56, '2016-01-02')\n",
      "7 ('Flipstorm', '55700-014', 687.46, '2016-01-03')\n",
      "8 ('Flipstorm', '17156-617', 1148.38, '2016-01-03')\n",
      "9 ('Flipstorm', '49348-574', 367.48, '2016-01-03')\n",
      "10 ('Flipstorm', '67544-356', 680.67, '2016-01-03')\n",
      "\n",
      "CPU times: user 4.91 ms, sys: 65 µs, total: 4.97 ms\n",
      "Wall time: 4.22 ms\n"
     ]
    }
   ],
   "source": [
    "%%time\n",
    "c.execute(\"SELECT company, part, price_eur, just_date FROM transactions WHERE company = 'Flipstorm' AND norm_date BETWEEN '2016-01-01' AND '2016-09-01'\")\n",
    "total = c.fetchall()\n",
    "\n",
    "comp = list()\n",
    "for i in range (len(total)):\n",
    "  (comp, part, price_eur, just_date)= total[i]\n",
    "r=10\n",
    "print ('Last',r,'orders','from company', comp)\n",
    "for i in range (r): #print last r orders\n",
    "  print (i+1, total[i])\n",
    "\n",
    "print ()  "
   ]
  },
  {
   "cell_type": "code",
   "execution_count": 143,
   "metadata": {
    "colab": {
     "base_uri": "https://localhost:8080/",
     "height": 251
    },
    "colab_type": "code",
    "id": "j_FHBTe7cuXS",
    "outputId": "8783f621-e2a9-48e6-e10b-ca27f5a8902f"
   },
   "outputs": [
    {
     "name": "stdout",
     "output_type": "stream",
     "text": [
      "Last 10 orders\n",
      "1 ('Flipstorm', '43419-018', 139.56, '2019-05-14')\n",
      "2 ('Flipstorm', '49288-0285', 1051.08, '2019-02-21')\n",
      "3 ('Zoonder', '49349-842', 435.60509135040684, '2018-12-31')\n",
      "4 ('Twitterbeat', '0699-7041', 665.3, '2018-12-31')\n",
      "5 ('Rhycero', '68180-121', 936.06, '2018-12-31')\n",
      "6 ('Buzzbean', '51060-032', 378.98, '2018-12-31')\n",
      "7 ('Thoughtmix', '0268-6107', 477.59, '2018-12-31')\n",
      "8 ('Twitterbeat', '68180-121', 637.5, '2018-12-31')\n",
      "9 ('Thoughtmix', '13537-259', 762.29, '2018-12-31')\n",
      "10 ('Gabcube', '36800-952', 286.23, '2018-12-31')\n",
      "\n",
      "CPU times: user 3.72 ms, sys: 4.31 ms, total: 8.02 ms\n",
      "Wall time: 7.01 ms\n"
     ]
    }
   ],
   "source": [
    "%%time\n",
    "c.execute(\"SELECT company, part, price_eur, just_date FROM transactions WHERE norm_date IS NOT NULL ORDER BY norm_date DESC LIMIT 10 \")\n",
    "latest_sales = c.fetchall()\n",
    "\n",
    "comp = list()\n",
    "part = list()\n",
    "price_eur = list()\n",
    "just_date = list()\n",
    "for i in range (len(latest_sales)):\n",
    "  (comp, part, price_eur, just_date)= latest_sales[i]\n",
    "r=10\n",
    "print ('Last',r,'orders')\n",
    "for i in range (r): #print last r orders\n",
    "  print (i+1, latest_sales[i])\n",
    "print ()"
   ]
  },
  {
   "cell_type": "code",
   "execution_count": 132,
   "metadata": {
    "colab": {
     "base_uri": "https://localhost:8080/",
     "height": 251
    },
    "colab_type": "code",
    "id": "w7idepdahHTK",
    "outputId": "7bfe6b5a-b0ef-4741-b15d-bd6560c60e53"
   },
   "outputs": [
    {
     "name": "stdout",
     "output_type": "stream",
     "text": [
      "Orders on date 2018-01-14 tot: 16\n",
      "1 ('Buzzbean', 2, 1197.65, '€', '2018-01-14')\n",
      "2 ('Chatterbridge', 2, 1179.34, '€', '2018-01-14')\n",
      "3 ('Gabcube', 1, 97.15, '€', '2018-01-14')\n",
      "4 ('Kanoodle', 1, 30358.58, '¥', '2018-01-14')\n",
      "5 ('Ntags', 4, 1251.57, '€', '2018-01-14')\n",
      "6 ('Shufflebeat', 2, 1287.3, '€', '2018-01-14')\n",
      "7 ('Tagtune', 1, 206.42, '€', '2018-01-14')\n",
      "8 ('Wordify', 1, 917.52, '$', '2018-01-14')\n",
      "9 ('Zoonder', 1, 929.63, '$', '2018-01-14')\n",
      "10 ('Zooxo', 1, 407.1, '£', '2018-01-14')\n",
      "\n",
      "CPU times: user 6.73 ms, sys: 3.64 ms, total: 10.4 ms\n",
      "Wall time: 9.16 ms\n"
     ]
    }
   ],
   "source": [
    "%%time\n",
    "c.execute(\"SELECT company,COUNT(part),SUM(price),currencies,just_date FROM transactions WHERE just_date='2018-01-14' GROUP BY company\")\n",
    "total_sales_perday = c.fetchall()\n",
    "\n",
    "comp = list()\n",
    "tot = 0\n",
    "for i in range (len(total_sales_perday)):\n",
    "  (comp,c_parts,s_parts,curr,just_date)= total_sales_perday[i] \n",
    "  tot = tot + c_parts\n",
    "\n",
    "print ('Orders on date',just_date,'tot:',tot)\n",
    "for i in range (len(total_sales_perday)): \n",
    "  print (i+1, total_sales_perday[i])\n",
    "print ()"
   ]
  },
  {
   "cell_type": "code",
   "execution_count": 144,
   "metadata": {
    "colab": {
     "base_uri": "https://localhost:8080/",
     "height": 251
    },
    "colab_type": "code",
    "id": "CAyGFqnbcuXQ",
    "outputId": "99ee9b31-5714-4b82-f55c-46f7d32ca0e6"
   },
   "outputs": [
    {
     "name": "stdout",
     "output_type": "stream",
     "text": [
      "Last 10 orders from company Flipstorm\n",
      "1 ('Flipstorm', '24385-268', 221.73, '2016-01-02')\n",
      "2 ('Flipstorm', '49035-530', 841.97, '2016-01-02')\n",
      "3 ('Flipstorm', '44946-1046', 406.4, '2016-01-02')\n",
      "4 ('Flipstorm', '51346-145', 978.51, '2016-01-02')\n",
      "5 ('Flipstorm', '51138-049', 504.69, '2016-01-02')\n",
      "6 ('Flipstorm', '51523-002', 1041.56, '2016-01-02')\n",
      "7 ('Flipstorm', '55700-014', 687.46, '2016-01-03')\n",
      "8 ('Flipstorm', '17156-617', 1148.38, '2016-01-03')\n",
      "9 ('Flipstorm', '49348-574', 367.48, '2016-01-03')\n",
      "10 ('Flipstorm', '67544-356', 680.67, '2016-01-03')\n",
      "\n",
      "CPU times: user 4.96 ms, sys: 3 µs, total: 4.97 ms\n",
      "Wall time: 4.25 ms\n"
     ]
    }
   ],
   "source": [
    "%%time\n",
    "c.execute(\"SELECT company, part, price_eur, just_date FROM transactions WHERE company = 'Flipstorm' AND norm_date BETWEEN '2016-01-01' AND '2016-09-01'\")\n",
    "total = c.fetchall()\n",
    "\n",
    "comp = list()\n",
    "for i in range (len(total)):\n",
    "  (comp, part, price_eur, just_date)= total[i]\n",
    "r=10\n",
    "print ('Last',r,'orders','from company', comp)\n",
    "for i in range (r): #print last r orders\n",
    "  print (i+1, total[i])\n",
    "\n",
    "print ()  "
   ]
  },
  {
   "cell_type": "code",
   "execution_count": 145,
   "metadata": {},
   "outputs": [
    {
     "data": {
      "text/plain": [
       "<sqlite3.Cursor at 0x7f32ceb688f0>"
      ]
     },
     "execution_count": 145,
     "metadata": {},
     "output_type": "execute_result"
    }
   ],
   "source": [
    "c.execute(\"CREATE INDEX idx_cmpny_date ON transactions (company, date)\")"
   ]
  },
  {
   "cell_type": "code",
   "execution_count": 146,
   "metadata": {
    "colab": {
     "base_uri": "https://localhost:8080/",
     "height": 251
    },
    "colab_type": "code",
    "id": "CAyGFqnbcuXQ",
    "outputId": "99ee9b31-5714-4b82-f55c-46f7d32ca0e6"
   },
   "outputs": [
    {
     "name": "stdout",
     "output_type": "stream",
     "text": [
      "Last 10 orders from company Flipstorm\n",
      "1 ('Flipstorm', '24385-268', 221.73, '2016-01-02')\n",
      "2 ('Flipstorm', '49035-530', 841.97, '2016-01-02')\n",
      "3 ('Flipstorm', '44946-1046', 406.4, '2016-01-02')\n",
      "4 ('Flipstorm', '51346-145', 978.51, '2016-01-02')\n",
      "5 ('Flipstorm', '51138-049', 504.69, '2016-01-02')\n",
      "6 ('Flipstorm', '51523-002', 1041.56, '2016-01-02')\n",
      "7 ('Flipstorm', '55700-014', 687.46, '2016-01-03')\n",
      "8 ('Flipstorm', '17156-617', 1148.38, '2016-01-03')\n",
      "9 ('Flipstorm', '49348-574', 367.48, '2016-01-03')\n",
      "10 ('Flipstorm', '67544-356', 680.67, '2016-01-03')\n",
      "\n",
      "CPU times: user 4.08 ms, sys: 3 µs, total: 4.08 ms\n",
      "Wall time: 3.06 ms\n"
     ]
    }
   ],
   "source": [
    "%%time\n",
    "c.execute(\"SELECT company, part, price_eur, just_date FROM transactions WHERE company = 'Flipstorm' AND norm_date BETWEEN '2016-01-01' AND '2016-09-01'\")\n",
    "total = c.fetchall()\n",
    "\n",
    "comp = list()\n",
    "for i in range (len(total)):\n",
    "  (comp, part, price_eur, just_date)= total[i]\n",
    "r=10\n",
    "print ('Last',r,'orders','from company', comp)\n",
    "for i in range (r): #print last r orders\n",
    "  print (i+1, total[i])\n",
    "\n",
    "print ()  "
   ]
  },
  {
   "cell_type": "code",
   "execution_count": 131,
   "metadata": {
    "colab": {
     "base_uri": "https://localhost:8080/",
     "height": 251
    },
    "colab_type": "code",
    "id": "j_FHBTe7cuXS",
    "outputId": "8783f621-e2a9-48e6-e10b-ca27f5a8902f"
   },
   "outputs": [
    {
     "name": "stdout",
     "output_type": "stream",
     "text": [
      "Last 10 orders\n",
      "1 ('Flipstorm', '43419-018', 139.56, '2019-05-14')\n",
      "2 ('Flipstorm', '49288-0285', 1051.08, '2019-02-21')\n",
      "3 ('Zoonder', '49349-842', 435.60509135040684, '2018-12-31')\n",
      "4 ('Twitterbeat', '0699-7041', 665.3, '2018-12-31')\n",
      "5 ('Rhycero', '68180-121', 936.06, '2018-12-31')\n",
      "6 ('Buzzbean', '51060-032', 378.98, '2018-12-31')\n",
      "7 ('Thoughtmix', '0268-6107', 477.59, '2018-12-31')\n",
      "8 ('Twitterbeat', '68180-121', 637.5, '2018-12-31')\n",
      "9 ('Thoughtmix', '13537-259', 762.29, '2018-12-31')\n",
      "10 ('Gabcube', '36800-952', 286.23, '2018-12-31')\n",
      "\n",
      "CPU times: user 15 ms, sys: 180 µs, total: 15.2 ms\n",
      "Wall time: 13.9 ms\n"
     ]
    }
   ],
   "source": [
    "%%time\n",
    "c.execute(\"SELECT company, part, price_eur, just_date FROM transactions WHERE norm_date IS NOT NULL ORDER BY norm_date DESC LIMIT 10 \")\n",
    "latest_sales = c.fetchall()\n",
    "\n",
    "comp = list()\n",
    "part = list()\n",
    "price_eur = list()\n",
    "just_date = list()\n",
    "for i in range (len(latest_sales)):\n",
    "  (comp, part, price_eur, just_date)= latest_sales[i]\n",
    "r=10\n",
    "print ('Last',r,'orders')\n",
    "for i in range (r): #print last r orders\n",
    "  print (i+1, latest_sales[i])\n",
    "print ()"
   ]
  },
  {
   "cell_type": "code",
   "execution_count": 147,
   "metadata": {
    "colab": {
     "base_uri": "https://localhost:8080/",
     "height": 251
    },
    "colab_type": "code",
    "id": "w7idepdahHTK",
    "outputId": "7bfe6b5a-b0ef-4741-b15d-bd6560c60e53"
   },
   "outputs": [
    {
     "name": "stdout",
     "output_type": "stream",
     "text": [
      "Orders on date 2018-01-14 tot: 16\n",
      "1 ('Buzzbean', 2, 1197.65, '€', '2018-01-14')\n",
      "2 ('Chatterbridge', 2, 1179.34, '€', '2018-01-14')\n",
      "3 ('Gabcube', 1, 97.15, '€', '2018-01-14')\n",
      "4 ('Kanoodle', 1, 30358.58, '¥', '2018-01-14')\n",
      "5 ('Ntags', 4, 1251.57, '€', '2018-01-14')\n",
      "6 ('Shufflebeat', 2, 1287.3, '€', '2018-01-14')\n",
      "7 ('Tagtune', 1, 206.42, '€', '2018-01-14')\n",
      "8 ('Wordify', 1, 917.52, '$', '2018-01-14')\n",
      "9 ('Zoonder', 1, 929.63, '$', '2018-01-14')\n",
      "10 ('Zooxo', 1, 407.1, '£', '2018-01-14')\n",
      "\n",
      "CPU times: user 5.18 ms, sys: 11.9 ms, total: 17.1 ms\n",
      "Wall time: 15.9 ms\n"
     ]
    }
   ],
   "source": [
    "%%time\n",
    "c.execute(\"SELECT company,COUNT(part),SUM(price),currencies,just_date FROM transactions WHERE just_date='2018-01-14' GROUP BY company\")\n",
    "total_sales_perday = c.fetchall()\n",
    "\n",
    "comp = list()\n",
    "tot = 0\n",
    "for i in range (len(total_sales_perday)):\n",
    "  (comp,c_parts,s_parts,curr,just_date)= total_sales_perday[i] \n",
    "  tot = tot + c_parts\n",
    "\n",
    "print ('Orders on date',just_date,'tot:',tot)\n",
    "for i in range (len(total_sales_perday)): \n",
    "  print (i+1, total_sales_perday[i])\n",
    "print ()"
   ]
  },
  {
   "cell_type": "code",
   "execution_count": 148,
   "metadata": {
    "colab": {
     "base_uri": "https://localhost:8080/",
     "height": 251
    },
    "colab_type": "code",
    "id": "CAyGFqnbcuXQ",
    "outputId": "99ee9b31-5714-4b82-f55c-46f7d32ca0e6"
   },
   "outputs": [
    {
     "name": "stdout",
     "output_type": "stream",
     "text": [
      "Last 10 orders from company Flipstorm\n",
      "1 ('Flipstorm', '24385-268', 221.73, '2016-01-02')\n",
      "2 ('Flipstorm', '49035-530', 841.97, '2016-01-02')\n",
      "3 ('Flipstorm', '44946-1046', 406.4, '2016-01-02')\n",
      "4 ('Flipstorm', '51346-145', 978.51, '2016-01-02')\n",
      "5 ('Flipstorm', '51138-049', 504.69, '2016-01-02')\n",
      "6 ('Flipstorm', '51523-002', 1041.56, '2016-01-02')\n",
      "7 ('Flipstorm', '55700-014', 687.46, '2016-01-03')\n",
      "8 ('Flipstorm', '17156-617', 1148.38, '2016-01-03')\n",
      "9 ('Flipstorm', '49348-574', 367.48, '2016-01-03')\n",
      "10 ('Flipstorm', '67544-356', 680.67, '2016-01-03')\n",
      "\n",
      "CPU times: user 3.88 ms, sys: 0 ns, total: 3.88 ms\n",
      "Wall time: 2.92 ms\n"
     ]
    }
   ],
   "source": [
    "%%time\n",
    "c.execute(\"SELECT company, part, price_eur, just_date FROM transactions WHERE company = 'Flipstorm' AND norm_date BETWEEN '2016-01-01' AND '2016-09-01'\")\n",
    "total = c.fetchall()\n",
    "\n",
    "comp = list()\n",
    "for i in range (len(total)):\n",
    "  (comp, part, price_eur, just_date)= total[i]\n",
    "r=10\n",
    "print ('Last',r,'orders','from company', comp)\n",
    "for i in range (r): #print last r orders\n",
    "  print (i+1, total[i])\n",
    "\n",
    "print ()  "
   ]
  },
  {
   "cell_type": "code",
   "execution_count": null,
   "metadata": {},
   "outputs": [],
   "source": []
  }
 ],
 "metadata": {
  "colab": {
   "collapsed_sections": [
    "Gwb5BJw9cuW8"
   ],
   "name": "GroupProjectV5.2-ari.ipynb",
   "provenance": []
  },
  "kernelspec": {
   "display_name": "Python 3",
   "language": "python",
   "name": "python3"
  },
  "language_info": {
   "codemirror_mode": {
    "name": "ipython",
    "version": 3
   },
   "file_extension": ".py",
   "mimetype": "text/x-python",
   "name": "python",
   "nbconvert_exporter": "python",
   "pygments_lexer": "ipython3",
   "version": "3.7.1"
  },
  "widgets": {
   "application/vnd.jupyter.widget-state+json": {
    "state": {},
    "version_major": 2,
    "version_minor": 0
   }
  }
 },
 "nbformat": 4,
 "nbformat_minor": 4
}
